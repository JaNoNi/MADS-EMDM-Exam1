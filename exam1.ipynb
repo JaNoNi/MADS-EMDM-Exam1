{
 "cells": [
  {
   "cell_type": "markdown",
   "id": "fe12c956-bdc7-405f-89bb-73656f14b7bb",
   "metadata": {},
   "source": [
    "# Elective Module Advanced Topics of Data Mining.\n",
    "---\n",
    "<b>MADS-EMDM Portfolio-Exam Part 1<br>\n",
    "Janosch Höfer, 938969</b>"
   ]
  },
  {
   "cell_type": "markdown",
   "id": "a1c21e64-cf43-466b-87d1-0d211e1b06c3",
   "metadata": {},
   "source": [
    "## Table of contents\n",
    "\n",
    "- [Imports](#intro) <br>\n",
    "- [1. Exercise](#ex1) <br>\n",
    "- [2. Exercise](#ex2) <br>\n",
    "- [3. Exercise](#ex3) <br>\n",
    "- [4. Exercise](#ex4) <br>\n",
    "- [5. Exercise](#ex5)"
   ]
  },
  {
   "cell_type": "markdown",
   "id": "45565406-0b20-4068-9147-9ad734714b8b",
   "metadata": {},
   "source": [
    "## Imports"
   ]
  },
  {
   "cell_type": "code",
   "execution_count": 1,
   "id": "837f2b17-b3b1-4f94-8a56-2bd201616743",
   "metadata": {},
   "outputs": [],
   "source": [
    "# Standard libraries\n",
    "import functools\n",
    "import itertools\n",
    "import os\n",
    "import timeit\n",
    "\n",
    "# Installed libraries\n",
    "import matplotlib.pyplot as plt\n",
    "import numpy as np\n",
    "import pandas as pd\n",
    "import seaborn as sns\n",
    "from mlxtend.frequent_patterns import apriori, fpgrowth\n",
    "from mlxtend.preprocessing import TransactionEncoder\n",
    "from tqdm.notebook import tqdm\n",
    "\n",
    "# Own classes and functions\n",
    "from helper_scripts.data_display import display_side_by_side, show_largest\n",
    "from helper_scripts.data_manipulation import setup_raw_data"
   ]
  },
  {
   "cell_type": "markdown",
   "id": "efb875a5-27c3-44cd-972b-239a85a220d1",
   "metadata": {},
   "source": [
    "---\n",
    "<a id='ex1'></a>"
   ]
  },
  {
   "cell_type": "markdown",
   "id": "219a6311-f408-4997-bcd4-e84bd851164b",
   "metadata": {
    "tags": []
   },
   "source": [
    "## 1. Exercise\n",
    "\n",
    "Consider the following set of items: a, b, c, d, e, g, m in some transaction database. Assume that\n",
    "<b>APRIORI</b> is running and has already computed the set 𝐿4 using alphabetical order on the items. The\n",
    "resulting set is:\n",
    "\n",
    "$$\n",
    "L_4 = \\begin{equation}\n",
    "\\left\\{\n",
    "    \\begin{aligned}\n",
    "        \\{a, b, c, d\\}, \\{a, b, c, e\\}, \\{a, b, c, m\\}, \\{a, b, d, e\\}, \\{a, b, e, m\\} \\\\\n",
    "        \\{a, c, e, m\\}, \\{a, d, g, m\\}, \\{b, c, d, e\\}, \\{b, c, d, g\\}, \\{b, c, d, m\\} \\\\\n",
    "        \\{b, c, e, g\\}, \\{b, c, e, m\\}, \\{b, d, e, g\\}, \\{c, d, e, g\\}, \\{c, d, g, m\\} \\\\\n",
    "    \\end{aligned}\n",
    "    \\right\\}\n",
    "\\end{equation}\n",
    "$$"
   ]
  },
  {
   "cell_type": "markdown",
   "id": "bbfc25e5-e7e3-414e-954f-b03c9aef1275",
   "metadata": {},
   "source": [
    "### 1.1. Use the APRIORI candidate generation (and alphabetical order on the items) to create the set $C_5$ of candidates for 5-element frequent itemsets. Explain your decisions to create or discard elements.\n",
    "\n",
    "In order to create the superset $C_5$ efficiently, only items which last position is different are combined. Using the last position is not mandatory. Any position would be adequate as long as it is applied the same to all items. For example, $\\{a,b,c,d\\}$ and $\\{a,b,c,e\\}$ are only different in the last place, therefore the candidate $\\{a,b,c,d,e\\}$ is created. This results in:\n",
    "\n",
    "$$\n",
    "C_5 = \\begin{equation}\n",
    "\\left\\{\n",
    "    \\begin{aligned}\n",
    "        \\{a, b, c, d, e\\}, \\{a,b,c,d,m\\}, \\{a,b,c,e,m\\}, \\{b, c, d, e, g\\}, \\{b, c, d, e, m\\}, \\{b, c, d, g, m\\}, \\{b, c, e, g, m\\}\n",
    "    \\end{aligned}\n",
    "    \\right\\}\n",
    "\\end{equation}\n",
    "$$\n",
    "\n",
    "The candidates are then pruned. Because of the monotonicity of support, the superset's support can only be equal or less than the lowest support of its subsets. So, if any subset's support is below the threshold the superset can be discarded. For that all possible subsets that would create the potential $C_5$ candidates are created and checked whether they are in $L_4$. Doing this the following $C_5$ candidates can be removed:\n",
    "\n",
    "$$\n",
    "\\begin{equation}\n",
    "\\begin{aligned}\n",
    "\\{a, b, c, d, e\\} &\\Rightarrow missing\\,\\{a,c,d,e\\} \\\\\n",
    "\\{a, b, c, d, m\\} &\\Rightarrow missing\\,\\{a,c,d,m\\} \\\\\n",
    "\\{b, c, d, e, m\\} &\\Rightarrow missing\\,\\{b,d,e,m\\} \\\\\n",
    "\\{b, c, d, g, m\\} &\\Rightarrow missing\\,\\{b,d,g,m\\} \\\\\n",
    "\\{b, c, e, g, m\\} &\\Rightarrow missing\\,\\{b,e,g,m\\} \\\\\n",
    "\\end{aligned}\n",
    "\\end{equation}\n",
    "$$\n",
    "\n",
    "Resulting in:\n",
    "$$\n",
    "C_5 = \\begin{equation}\n",
    "\\left\\{\n",
    "    \\begin{aligned}\n",
    "        \\{a, b, c, e, m\\}, \\{b, c, d, e, g\\}\n",
    "    \\end{aligned}\n",
    "    \\right\\}\n",
    "\\end{equation}\n",
    "$$"
   ]
  },
  {
   "cell_type": "markdown",
   "id": "d65dd9b5-8fdf-4670-8420-ba9c32ba2644",
   "metadata": {},
   "source": [
    "### 1.2. For how many itemsets does the database have to be scanned to yield $L_5$ from $C_5$?\n",
    "\n",
    "Only for two, because all the other possible candidates could be pruned beforehand."
   ]
  },
  {
   "cell_type": "markdown",
   "id": "87d98730-fa67-4cf2-a136-0455839786d2",
   "metadata": {},
   "source": [
    "---\n",
    "<a id='ex2'></a>"
   ]
  },
  {
   "cell_type": "markdown",
   "id": "88f4244e-27b7-4193-bfbd-b2126c9d0085",
   "metadata": {
    "tags": []
   },
   "source": [
    "## 2. Exercise"
   ]
  },
  {
   "cell_type": "markdown",
   "id": "18eed311-32b4-4520-bf12-11a11bf258e5",
   "metadata": {},
   "source": [
    "### 2.1. Create the following grocery dataset:"
   ]
  },
  {
   "cell_type": "code",
   "execution_count": 2,
   "id": "aea6b201-7962-4995-b011-aa5b842c03b8",
   "metadata": {},
   "outputs": [],
   "source": [
    "dataset1 = [\n",
    "    [\n",
    "        \"fish\",\n",
    "        \"apples\",\n",
    "        \"cider\",\n",
    "        \"dragon fruit\",\n",
    "        \"garlic\",\n",
    "        \"ice cream\",\n",
    "        \"mints\",\n",
    "        \"prunes\",\n",
    "    ],\n",
    "    [\"apples\", \"bacon\", \"cider\", \"fish\", \"lemons\", \"mints\", \"oatmeal\"],\n",
    "    [\"bacon\", \"fish\", \"ham\", \"jam\", \"oatmeal\"],\n",
    "    [\"bacon\", \"cider\", \"kiwis\", \"spam\", \"prunes\"],\n",
    "    [\"apples\", \"fish\", \"cider\", \"eggs\", \"lemons\", \"prunes\", \"mints\", \"nachos\"],\n",
    "]"
   ]
  },
  {
   "cell_type": "markdown",
   "id": "338d503f-6970-40fd-9b07-a0326f7cbb3c",
   "metadata": {},
   "source": [
    "### 2.2. Load the dataset T10I4D100K from the Frequent Itemset Mining Dataset Repository."
   ]
  },
  {
   "cell_type": "code",
   "execution_count": 3,
   "id": "5d38414b-9f84-4bc6-9644-554b4f236042",
   "metadata": {},
   "outputs": [
    {
     "name": "stderr",
     "output_type": "stream",
     "text": [
      "INFO:root:Found the correct data.\n"
     ]
    }
   ],
   "source": [
    "# Download data\n",
    "filename_data = \"T10I4D100K.dat\"\n",
    "data_url = \"http://fimi.uantwerpen.be/data\"\n",
    "path_to_data = \"data\"\n",
    "random_state = 1\n",
    "\n",
    "setup_raw_data(f\"{data_url}/{filename_data}\", path_to_data, filename_data)"
   ]
  },
  {
   "cell_type": "markdown",
   "id": "c8cf29f6-3dcf-4a57-9f09-396d65ac9af9",
   "metadata": {},
   "source": [
    "After downloading the data file, we must first bring it into the right format. First we split each row of text. Here it is important to remove the last entry in the list which is empty. This empty entry is the result of the method used, as can be seen in the example below:"
   ]
  },
  {
   "cell_type": "code",
   "execution_count": 4,
   "id": "2c92a5e4-84db-4c86-991c-c0cfbecd6363",
   "metadata": {},
   "outputs": [
    {
     "data": {
      "text/plain": [
       "['test', '']"
      ]
     },
     "execution_count": 4,
     "metadata": {},
     "output_type": "execute_result"
    }
   ],
   "source": [
    "\"test\\n\".split(\"\\n\")"
   ]
  },
  {
   "cell_type": "code",
   "execution_count": 5,
   "id": "ca8f5bb3-8715-467d-ac5a-4fb7be520c3a",
   "metadata": {},
   "outputs": [],
   "source": [
    "with open(os.path.join(path_to_data, filename_data), \"r\") as file:\n",
    "    dataset2_raw = file.read().split(\"\\n\")[:-1]"
   ]
  },
  {
   "cell_type": "markdown",
   "id": "1e4dc82e-49f5-46d6-94f0-6f4129cc23fb",
   "metadata": {},
   "source": [
    "Next we split each row into the items."
   ]
  },
  {
   "cell_type": "code",
   "execution_count": 6,
   "id": "b977cacc-da41-42e3-ad16-dd9943d32234",
   "metadata": {},
   "outputs": [
    {
     "data": {
      "text/plain": [
       "['69 75 140 175 285 494 598 614 641 723 829 871',\n",
       " '32 239 372 419 448 510 540 581 674 752 802 844 887 922']"
      ]
     },
     "execution_count": 6,
     "metadata": {},
     "output_type": "execute_result"
    }
   ],
   "source": [
    "dataset2_raw[-2:]"
   ]
  },
  {
   "cell_type": "code",
   "execution_count": 7,
   "id": "1a5ea5d3-312a-4831-a623-a978db2fb009",
   "metadata": {},
   "outputs": [
    {
     "data": {
      "text/plain": [
       "100000"
      ]
     },
     "execution_count": 7,
     "metadata": {},
     "output_type": "execute_result"
    }
   ],
   "source": [
    "dataset2_long = [item.rstrip().split(\" \") for item in dataset2_raw]\n",
    "len(dataset2_long)"
   ]
  },
  {
   "cell_type": "markdown",
   "id": "91d50b49-0c1b-4b4e-b2cc-70a066ef4317",
   "metadata": {},
   "source": [
    "Finally the dataset with 100.000 samples is reduced to 10.000."
   ]
  },
  {
   "cell_type": "code",
   "execution_count": 8,
   "id": "8b73982c-8ee4-47bb-8a78-19bd995afb6d",
   "metadata": {},
   "outputs": [
    {
     "data": {
      "text/plain": [
       "10000"
      ]
     },
     "execution_count": 8,
     "metadata": {},
     "output_type": "execute_result"
    }
   ],
   "source": [
    "dataset2 = dataset2_long[:10000]\n",
    "len(dataset2)"
   ]
  },
  {
   "cell_type": "markdown",
   "id": "72a6267a-a788-44a0-bb37-93a44668cdc2",
   "metadata": {},
   "source": [
    "### 2.3. For each dataset compute the highest (relative) support that a non-empty itemset actually reaches.\n",
    "\n",
    "Before we can calculate the support, we must first encode the transactions. For that we use the TransactionEncoder provided by the <i>mlxtend</i> library."
   ]
  },
  {
   "cell_type": "code",
   "execution_count": 9,
   "id": "2b645514-232a-41d2-b722-53f7d174684e",
   "metadata": {},
   "outputs": [],
   "source": [
    "def encode_data(dataset: list[list], sparse: bool = False) -> pd:\n",
    "    te = TransactionEncoder()\n",
    "    te_ary = te.fit_transform(dataset, sparse=sparse)\n",
    "    if sparse:\n",
    "        return pd.DataFrame.sparse.from_spmatrix(te_ary, columns=te.columns_)\n",
    "    return pd.DataFrame(te_ary, columns=te.columns_)"
   ]
  },
  {
   "cell_type": "code",
   "execution_count": 10,
   "id": "9998a796-7bd1-448f-8bc6-daebfa0a35be",
   "metadata": {},
   "outputs": [],
   "source": [
    "data1 = encode_data(dataset1)\n",
    "data2 = encode_data(dataset2)"
   ]
  },
  {
   "cell_type": "markdown",
   "id": "aa462bba-e3ce-4c53-89de-5d473805e351",
   "metadata": {},
   "source": [
    "With the encoded transactions, we are able to count the number of occurrences."
   ]
  },
  {
   "cell_type": "code",
   "execution_count": 11,
   "id": "410ac1cc-45c5-43da-a2a8-7d08886430fb",
   "metadata": {},
   "outputs": [
    {
     "data": {
      "text/html": [
       "<div>\n",
       "<style scoped>\n",
       "    .dataframe tbody tr th:only-of-type {\n",
       "        vertical-align: middle;\n",
       "    }\n",
       "\n",
       "    .dataframe tbody tr th {\n",
       "        vertical-align: top;\n",
       "    }\n",
       "\n",
       "    .dataframe thead th {\n",
       "        text-align: right;\n",
       "    }\n",
       "</style>\n",
       "<table border=\"1\" class=\"dataframe\">\n",
       "  <thead>\n",
       "    <tr style=\"text-align: right;\">\n",
       "      <th></th>\n",
       "      <th>apples</th>\n",
       "      <th>bacon</th>\n",
       "      <th>cider</th>\n",
       "      <th>dragon fruit</th>\n",
       "      <th>eggs</th>\n",
       "      <th>fish</th>\n",
       "      <th>garlic</th>\n",
       "      <th>ham</th>\n",
       "      <th>ice cream</th>\n",
       "      <th>jam</th>\n",
       "      <th>kiwis</th>\n",
       "      <th>lemons</th>\n",
       "      <th>mints</th>\n",
       "      <th>nachos</th>\n",
       "      <th>oatmeal</th>\n",
       "      <th>prunes</th>\n",
       "      <th>spam</th>\n",
       "    </tr>\n",
       "  </thead>\n",
       "  <tbody>\n",
       "    <tr>\n",
       "      <th>0</th>\n",
       "      <td>True</td>\n",
       "      <td>False</td>\n",
       "      <td>True</td>\n",
       "      <td>True</td>\n",
       "      <td>False</td>\n",
       "      <td>True</td>\n",
       "      <td>True</td>\n",
       "      <td>False</td>\n",
       "      <td>True</td>\n",
       "      <td>False</td>\n",
       "      <td>False</td>\n",
       "      <td>False</td>\n",
       "      <td>True</td>\n",
       "      <td>False</td>\n",
       "      <td>False</td>\n",
       "      <td>True</td>\n",
       "      <td>False</td>\n",
       "    </tr>\n",
       "    <tr>\n",
       "      <th>1</th>\n",
       "      <td>True</td>\n",
       "      <td>True</td>\n",
       "      <td>True</td>\n",
       "      <td>False</td>\n",
       "      <td>False</td>\n",
       "      <td>True</td>\n",
       "      <td>False</td>\n",
       "      <td>False</td>\n",
       "      <td>False</td>\n",
       "      <td>False</td>\n",
       "      <td>False</td>\n",
       "      <td>True</td>\n",
       "      <td>True</td>\n",
       "      <td>False</td>\n",
       "      <td>True</td>\n",
       "      <td>False</td>\n",
       "      <td>False</td>\n",
       "    </tr>\n",
       "    <tr>\n",
       "      <th>2</th>\n",
       "      <td>False</td>\n",
       "      <td>True</td>\n",
       "      <td>False</td>\n",
       "      <td>False</td>\n",
       "      <td>False</td>\n",
       "      <td>True</td>\n",
       "      <td>False</td>\n",
       "      <td>True</td>\n",
       "      <td>False</td>\n",
       "      <td>True</td>\n",
       "      <td>False</td>\n",
       "      <td>False</td>\n",
       "      <td>False</td>\n",
       "      <td>False</td>\n",
       "      <td>True</td>\n",
       "      <td>False</td>\n",
       "      <td>False</td>\n",
       "    </tr>\n",
       "    <tr>\n",
       "      <th>3</th>\n",
       "      <td>False</td>\n",
       "      <td>True</td>\n",
       "      <td>True</td>\n",
       "      <td>False</td>\n",
       "      <td>False</td>\n",
       "      <td>False</td>\n",
       "      <td>False</td>\n",
       "      <td>False</td>\n",
       "      <td>False</td>\n",
       "      <td>False</td>\n",
       "      <td>True</td>\n",
       "      <td>False</td>\n",
       "      <td>False</td>\n",
       "      <td>False</td>\n",
       "      <td>False</td>\n",
       "      <td>True</td>\n",
       "      <td>True</td>\n",
       "    </tr>\n",
       "    <tr>\n",
       "      <th>4</th>\n",
       "      <td>True</td>\n",
       "      <td>False</td>\n",
       "      <td>True</td>\n",
       "      <td>False</td>\n",
       "      <td>True</td>\n",
       "      <td>True</td>\n",
       "      <td>False</td>\n",
       "      <td>False</td>\n",
       "      <td>False</td>\n",
       "      <td>False</td>\n",
       "      <td>False</td>\n",
       "      <td>True</td>\n",
       "      <td>True</td>\n",
       "      <td>True</td>\n",
       "      <td>False</td>\n",
       "      <td>True</td>\n",
       "      <td>False</td>\n",
       "    </tr>\n",
       "  </tbody>\n",
       "</table>\n",
       "</div>"
      ],
      "text/plain": [
       "   apples  bacon  cider  dragon fruit   eggs   fish  garlic    ham  ice cream  \\\n",
       "0    True  False   True          True  False   True    True  False       True   \n",
       "1    True   True   True         False  False   True   False  False      False   \n",
       "2   False   True  False         False  False   True   False   True      False   \n",
       "3   False   True   True         False  False  False   False  False      False   \n",
       "4    True  False   True         False   True   True   False  False      False   \n",
       "\n",
       "     jam  kiwis  lemons  mints  nachos  oatmeal  prunes   spam  \n",
       "0  False  False   False   True   False    False    True  False  \n",
       "1  False  False    True   True   False     True   False  False  \n",
       "2   True  False   False  False   False     True   False  False  \n",
       "3  False   True   False  False   False    False    True   True  \n",
       "4  False  False    True   True    True    False    True  False  "
      ]
     },
     "execution_count": 11,
     "metadata": {},
     "output_type": "execute_result"
    }
   ],
   "source": [
    "data1.head()"
   ]
  },
  {
   "cell_type": "code",
   "execution_count": 12,
   "id": "a12e6421-f662-4211-a20a-63d5e4eedbe2",
   "metadata": {},
   "outputs": [],
   "source": [
    "relsup_str = \"relativ_support\""
   ]
  },
  {
   "cell_type": "code",
   "execution_count": 13,
   "id": "b0f2d13c-b5a0-49b7-b87d-2601234a8ff4",
   "metadata": {},
   "outputs": [
    {
     "data": {
      "text/html": [
       "<style type=\"text/css\">\n",
       "</style>\n",
       "<table id=\"T_2a69f\" style='display:inline'>\n",
       "  <caption>Grocery dataset</caption>\n",
       "  <thead>\n",
       "    <tr>\n",
       "      <th class=\"blank level0\" >&nbsp;</th>\n",
       "      <th id=\"T_2a69f_level0_col0\" class=\"col_heading level0 col0\" >relativ_support</th>\n",
       "    </tr>\n",
       "  </thead>\n",
       "  <tbody>\n",
       "    <tr>\n",
       "      <th id=\"T_2a69f_level0_row0\" class=\"row_heading level0 row0\" >cider</th>\n",
       "      <td id=\"T_2a69f_row0_col0\" class=\"data row0 col0\" >0.800000</td>\n",
       "    </tr>\n",
       "    <tr>\n",
       "      <th id=\"T_2a69f_level0_row1\" class=\"row_heading level0 row1\" >fish</th>\n",
       "      <td id=\"T_2a69f_row1_col0\" class=\"data row1 col0\" >0.800000</td>\n",
       "    </tr>\n",
       "    <tr>\n",
       "      <th id=\"T_2a69f_level0_row2\" class=\"row_heading level0 row2\" >apples</th>\n",
       "      <td id=\"T_2a69f_row2_col0\" class=\"data row2 col0\" >0.600000</td>\n",
       "    </tr>\n",
       "    <tr>\n",
       "      <th id=\"T_2a69f_level0_row3\" class=\"row_heading level0 row3\" >bacon</th>\n",
       "      <td id=\"T_2a69f_row3_col0\" class=\"data row3 col0\" >0.600000</td>\n",
       "    </tr>\n",
       "    <tr>\n",
       "      <th id=\"T_2a69f_level0_row4\" class=\"row_heading level0 row4\" >mints</th>\n",
       "      <td id=\"T_2a69f_row4_col0\" class=\"data row4 col0\" >0.600000</td>\n",
       "    </tr>\n",
       "  </tbody>\n",
       "</table>\n",
       "   <style type=\"text/css\">\n",
       "</style>\n",
       "<table id=\"T_b6996\" style='display:inline'>\n",
       "  <caption>T10I4D100K</caption>\n",
       "  <thead>\n",
       "    <tr>\n",
       "      <th class=\"blank level0\" >&nbsp;</th>\n",
       "      <th id=\"T_b6996_level0_col0\" class=\"col_heading level0 col0\" >relativ_support</th>\n",
       "    </tr>\n",
       "  </thead>\n",
       "  <tbody>\n",
       "    <tr>\n",
       "      <th id=\"T_b6996_level0_row0\" class=\"row_heading level0 row0\" >368</th>\n",
       "      <td id=\"T_b6996_row0_col0\" class=\"data row0 col0\" >0.082300</td>\n",
       "    </tr>\n",
       "    <tr>\n",
       "      <th id=\"T_b6996_level0_row1\" class=\"row_heading level0 row1\" >529</th>\n",
       "      <td id=\"T_b6996_row1_col0\" class=\"data row1 col0\" >0.070300</td>\n",
       "    </tr>\n",
       "    <tr>\n",
       "      <th id=\"T_b6996_level0_row2\" class=\"row_heading level0 row2\" >829</th>\n",
       "      <td id=\"T_b6996_row2_col0\" class=\"data row2 col0\" >0.062900</td>\n",
       "    </tr>\n",
       "    <tr>\n",
       "      <th id=\"T_b6996_level0_row3\" class=\"row_heading level0 row3\" >354</th>\n",
       "      <td id=\"T_b6996_row3_col0\" class=\"data row3 col0\" >0.061300</td>\n",
       "    </tr>\n",
       "    <tr>\n",
       "      <th id=\"T_b6996_level0_row4\" class=\"row_heading level0 row4\" >766</th>\n",
       "      <td id=\"T_b6996_row4_col0\" class=\"data row4 col0\" >0.057400</td>\n",
       "    </tr>\n",
       "  </tbody>\n",
       "</table>\n",
       "   "
      ],
      "text/plain": [
       "<IPython.core.display.HTML object>"
      ]
     },
     "metadata": {},
     "output_type": "display_data"
    }
   ],
   "source": [
    "display_side_by_side(\n",
    "    [show_largest(data1, relsup_str, 5), show_largest(data2, relsup_str, 5)],\n",
    "    [\"Grocery dataset\", \"T10I4D100K\"],\n",
    ")"
   ]
  },
  {
   "cell_type": "markdown",
   "id": "5d4ebbc8-4cb1-4b80-a996-c053a1e72131",
   "metadata": {},
   "source": [
    "The highest relative support for the grocery dataset is 0.8 for the itemsets $\\{cider\\}$ and $\\{fish\\}$. The highest relative support for the T10I4D100k dataset is 0.0823 for the itemset $\\{368\\}$. Theoretically $\\{cider, fish\\}$ could have also a relative support of 0.8. But a higher relative support is impossible."
   ]
  },
  {
   "cell_type": "markdown",
   "id": "1ce3eafc-7803-40b0-bc30-45d3f3a6836a",
   "metadata": {},
   "source": [
    "---\n",
    "<a id='ex3'></a>"
   ]
  },
  {
   "cell_type": "markdown",
   "id": "96d331f6-088f-4ef5-b3e9-d219c8efac0f",
   "metadata": {
    "tags": []
   },
   "source": [
    "## 3. Exercise\n",
    "\n",
    "### 3.1. Run and time APRIORI once on the grocery dataset using a support threshold of 0.4 and a fitting line magic command. How long did the run take? How many frequent itemsets were found?\n",
    "\n",
    "\n",
    "Jupyter has two types of built-in magic commands: line magics and cell magics. Line magics use % are run the statement following them. Cell magics use %% and are applied to the complete cell. To measure time %time and %timeit are available. $time measures for how long a Python's statement or expression executed.<br>\n",
    "Assigning variables inside of the magic commands might increase the runtime, but the difference it makes should be neglectable because we are comparing different datasets and not different functions. Were we interested in the performance of different functions, this difference could be important."
   ]
  },
  {
   "cell_type": "code",
   "execution_count": 14,
   "id": "9bac7083-9447-42f1-bd85-161618229bb8",
   "metadata": {},
   "outputs": [],
   "source": [
    "timeit_results_single = dict()"
   ]
  },
  {
   "cell_type": "code",
   "execution_count": 15,
   "id": "381b80cf-f619-49d1-8189-2ba925d95b7a",
   "metadata": {},
   "outputs": [
    {
     "name": "stdout",
     "output_type": "stream",
     "text": [
      "CPU times: total: 0 ns\n",
      "Wall time: 8.03 ms\n"
     ]
    }
   ],
   "source": [
    "%time timeit_results_single[\"Grocery_Dataset\"] = apriori(data1, min_support=0.4, use_colnames=True).shape[0]"
   ]
  },
  {
   "cell_type": "code",
   "execution_count": 16,
   "id": "c1665938-eea5-4e1b-a0cd-13f358ae1916",
   "metadata": {},
   "outputs": [
    {
     "name": "stdout",
     "output_type": "stream",
     "text": [
      "The command found 54 frequent itemsets.\n"
     ]
    }
   ],
   "source": [
    "print(f'The command found {timeit_results_single[\"Grocery_Dataset\"]} frequent itemsets.')"
   ]
  },
  {
   "cell_type": "markdown",
   "id": "bbe8a73a-dabc-4581-b626-d42d4f5d56be",
   "metadata": {},
   "source": [
    "Apriori found 54 frequent itemsets for the grocery dataset. Its runtime is in the single- to lower double-digit millisecond range."
   ]
  },
  {
   "cell_type": "markdown",
   "id": "18f52e70-6e9b-4cfe-aced-2d34245c0157",
   "metadata": {},
   "source": [
    "### 3.2. Run and time APRIORI once on the T10I4D100K dataset using a support threshold of 0.004 and a fitting line magic command. How long did the run take? How many frequent itemsets were found?"
   ]
  },
  {
   "cell_type": "code",
   "execution_count": 17,
   "id": "1e6cd964-141e-445b-a97b-b6c802a15901",
   "metadata": {},
   "outputs": [
    {
     "name": "stdout",
     "output_type": "stream",
     "text": [
      "CPU times: total: 32.6 s\n",
      "Wall time: 32.7 s\n"
     ]
    }
   ],
   "source": [
    "%time timeit_results_single[\"T10I4D100K\"] = apriori(data2, min_support=0.004, use_colnames=True).shape[0]"
   ]
  },
  {
   "cell_type": "code",
   "execution_count": 18,
   "id": "b84c3831-df03-4db9-bc22-1b831fc24789",
   "metadata": {},
   "outputs": [
    {
     "name": "stdout",
     "output_type": "stream",
     "text": [
      "The command found 2185 frequent itemsets.\n"
     ]
    }
   ],
   "source": [
    "print(f'The command found {timeit_results_single[\"T10I4D100K\"]} frequent itemsets.')"
   ]
  },
  {
   "cell_type": "markdown",
   "id": "65d64c71-c244-4a01-8a33-2b6d7415fbec",
   "metadata": {},
   "source": [
    "Apriori found 2185 fequent itemsets for the T10I4D100K dataset. Its runtime is in the mid double-digit second range."
   ]
  },
  {
   "cell_type": "markdown",
   "id": "5ab7ea75-85dd-442f-bf9d-2df964a2df7b",
   "metadata": {},
   "source": [
    "### 3.3. Time repeated runs of APRIORI on both datasets using the above respective support thresholds and a fitting line magic command where:\n",
    "\n",
    "- on the grocery dataset, 10 measurements are taken, each relying on 10 executions\n",
    "- on the T10I4D100K dataset, 10 measurements are taken, each relying on 1 execution.\n",
    "\n",
    "Report average runtime together with standard deviation for both experiments.\n",
    "\n",
    "\n",
    "%timeit can measure a statement repeatedly and returns the average runtime. %timeit can also return its measurements as variables.<br>"
   ]
  },
  {
   "cell_type": "code",
   "execution_count": 19,
   "id": "c92d8d36-4803-4039-9f62-8cd85fd64e3b",
   "metadata": {},
   "outputs": [],
   "source": [
    "timeit_results = dict()"
   ]
  },
  {
   "cell_type": "code",
   "execution_count": 20,
   "id": "6877b86b-c34d-43c2-87a2-697141e6507f",
   "metadata": {},
   "outputs": [
    {
     "name": "stdout",
     "output_type": "stream",
     "text": [
      "5.81 ms ± 464 µs per loop (mean ± std. dev. of 10 runs, 10 loops each)\n"
     ]
    },
    {
     "data": {
      "text/plain": [
       "<TimeitResult : 5.81 ms ± 464 µs per loop (mean ± std. dev. of 10 runs, 10 loops each)>"
      ]
     },
     "execution_count": 20,
     "metadata": {},
     "output_type": "execute_result"
    }
   ],
   "source": [
    "%timeit -o -n 10 -r 10 apriori(data1, min_support=0.4, use_colnames=True)"
   ]
  },
  {
   "cell_type": "code",
   "execution_count": 21,
   "id": "77f7faa6-95c2-4a19-8413-e275481a645b",
   "metadata": {},
   "outputs": [],
   "source": [
    "timeit_results[\"Grocery_Dataset\"] = _"
   ]
  },
  {
   "cell_type": "code",
   "execution_count": 22,
   "id": "575437c0-3b38-412c-91a7-a3678a07bd27",
   "metadata": {},
   "outputs": [
    {
     "name": "stdout",
     "output_type": "stream",
     "text": [
      "32 s ± 536 ms per loop (mean ± std. dev. of 10 runs, 1 loop each)\n"
     ]
    },
    {
     "data": {
      "text/plain": [
       "<TimeitResult : 32 s ± 536 ms per loop (mean ± std. dev. of 10 runs, 1 loop each)>"
      ]
     },
     "execution_count": 22,
     "metadata": {},
     "output_type": "execute_result"
    }
   ],
   "source": [
    "%timeit -o -n 1 -r 10 apriori(data2, min_support=0.004, use_colnames=True)"
   ]
  },
  {
   "cell_type": "code",
   "execution_count": 23,
   "id": "45b03d24-a5d7-4f57-8180-6031dd08b329",
   "metadata": {},
   "outputs": [],
   "source": [
    "timeit_results[\"T10I4D100K\"] = _"
   ]
  },
  {
   "cell_type": "code",
   "execution_count": 24,
   "id": "4054fc66-7663-474c-959c-7fef647e9538",
   "metadata": {},
   "outputs": [
    {
     "name": "stdout",
     "output_type": "stream",
     "text": [
      "Results for 'Grocery_Dataset':\n",
      "The command ran on average for 0.00581 seconds and has a standard deviation of 0.00046\n",
      "Results for 'T10I4D100K':\n",
      "The command ran on average for 31.99074 seconds and has a standard deviation of 0.53606\n"
     ]
    }
   ],
   "source": [
    "for key, timit_res in timeit_results.items():\n",
    "    print(f\"Results for '{key}':\")\n",
    "    print(\n",
    "        f\"The command ran on average for {timit_res.average:0.5f}\"\n",
    "        f\" seconds and has a standard deviation of {timit_res.stdev:0.5f}\"\n",
    "    )"
   ]
  },
  {
   "cell_type": "markdown",
   "id": "5cd60232-d9e1-429d-8e12-361f68e5aeaa",
   "metadata": {},
   "source": [
    "#### 3.4. Discuss limitations of the above approaches!\n",
    "\n",
    "- Variables defined after the magic line commands or inside of cells started by a magic cell commands are not available outside of the magic commands. Therefore, timing functions with magic commands and using that functions results later on is not possible.\n",
    "- It is terrible to use with a good linter. How the magic commands are used here they are accepted by the linter, but this results in strange reference of the results (use of _). Without a linter something like $result = \\%timeit function()$ would have been possible and a maybe a cleaner solution. Further, the use of _ to reference the result of the previous cell is not guaranteed to work. If _ has been assigned a value, which is not uncommon in Python, it will no longer reference the result of the previous cell.\n",
    "- Although it is very convenient to use magic commands for single commands or cells, referencing its results in other cells is rather laborious.\n",
    "- Magic commands can not be used outside of the Jupyter notebook (e.g. Python scripts).\n",
    "- The result of %time can only be used as an estimation of the runtime. The single measurement can be influenced by background processes and vary a lot. %timeit gives a much better approximation of the algorithms runtime, because it is repeated. But this is only true if the minimum runtime and not the average is compared.\n",
    "- 10 measurements and 10 executions are not many. To get more precise results, more repeats are needed.\n",
    "- All methods only measure the runtime on this machine. A different machine can have completely different results."
   ]
  },
  {
   "cell_type": "markdown",
   "id": "f99ee455-bd2a-4387-b7ea-cf720b0f7123",
   "metadata": {},
   "source": [
    "---\n",
    "<a id='ex4'></a>"
   ]
  },
  {
   "cell_type": "markdown",
   "id": "0ebc48f3-afc8-41f8-b7cc-2b201bb40bd1",
   "metadata": {},
   "source": [
    "## 4. Exercise\n",
    "\n",
    "### 4.1. Time and run APRIORI on both datasets, first on the regular (non-sparse) representation, then on a sparse representation.\n",
    "\n",
    "- For the grocery dataset use 0.2, 0.4, 0.6, 0.8 as the support thresholds, run 10 measurements for each setting and use 10 executions for each measurement.\n",
    "- For the T10I4D100K dataset use 0.002, 0.004, 0.008, 0.016, 0.032, 0.064 as the support thresholds, run 10 measurements for each setting and use 1 execution for each repetition.\n",
    "\n",
    "Out of the 10 measurements, report only the minimum for each setting (column parameter and\n",
    "support threshold)."
   ]
  },
  {
   "cell_type": "markdown",
   "id": "e0eab92b-f871-4070-9db9-781054f848db",
   "metadata": {},
   "source": [
    "The experiment setup consists of two custom function. One that times a given function and one that runs the time function for all parameter combinations and returns the results in a dataframe."
   ]
  },
  {
   "cell_type": "code",
   "execution_count": 25,
   "id": "30cb3826-ca94-41c0-8133-8a7e88024b6e",
   "metadata": {},
   "outputs": [],
   "source": [
    "def run_and_time(func: callable, n_mes: int, n_exec: int, func_kwargs: dict) -> tuple[int, float]:\n",
    "    part_func = functools.partial(func, **func_kwargs)  # Preload function\n",
    "    results = timeit.repeat(part_func, repeat=n_mes, number=n_exec)\n",
    "    min_time = min(results) * 1000  # convert to milliseconds\n",
    "    _fun_results = part_func()  # runs the algorithm after timing for itemsets and memory\n",
    "    memory = _fun_results.memory_usage().sum()\n",
    "    itemsets = _fun_results.shape[0]\n",
    "    return min_time, memory, itemsets\n",
    "\n",
    "\n",
    "def experiment_maker(\n",
    "    dataset: list[list], func: callable, parameters: dict[str:list]\n",
    ") -> pd.DataFrame:\n",
    "    # Loops through all parameter combinations\n",
    "    results = list()\n",
    "    max_len = np.prod([len(item) for item in parameters.values()])  # Iterables have no length\n",
    "    for item in tqdm(itertools.product(*parameters.values()), total=max_len):\n",
    "        data = encode_data(dataset, sparse=item[3])\n",
    "        avg, memory, itemsets = run_and_time(\n",
    "            func,\n",
    "            item[1],\n",
    "            item[2],\n",
    "            {\"df\": data, \"min_support\": item[0], \"use_colnames\": item[4]},\n",
    "        )\n",
    "        results.append([*item, avg, data.memory_usage().sum(), memory, itemsets])\n",
    "    run_resultnames = [\"min_time [ms]\", \"memory_encoding\", \"memory_itemsets\", \"itemsets\"]\n",
    "    df_colnames = list(parameters.keys()) + run_resultnames\n",
    "    df = pd.DataFrame(results, columns=df_colnames)\n",
    "    df.columns = df.columns.str.capitalize()\n",
    "    return df"
   ]
  },
  {
   "cell_type": "markdown",
   "id": "9d25ec91-8baa-4f1a-bbae-94ebd6c50768",
   "metadata": {},
   "source": [
    "The parameters are setup for the two datasets."
   ]
  },
  {
   "cell_type": "code",
   "execution_count": 26,
   "id": "83c02c81-9e08-401a-8dc7-39b9ed1e8556",
   "metadata": {},
   "outputs": [],
   "source": [
    "# Setup parameters\n",
    "data1_params_sparse = {\n",
    "    \"min_supports\": [0.2, 0.4, 0.6, 0.8],\n",
    "    \"measurements\": [10],\n",
    "    \"executions\": [10],\n",
    "    \"sparse\": [False, True],\n",
    "    \"colnames\": [False],\n",
    "}\n",
    "data2_params_sparse = {\n",
    "    \"min_supports\": [0.002, 0.004, 0.008, 0.016, 0.032, 0.064],\n",
    "    \"measurements\": [10],\n",
    "    \"executions\": [1],\n",
    "    \"sparse\": [False, True],\n",
    "    \"colnames\": [False],\n",
    "}"
   ]
  },
  {
   "cell_type": "code",
   "execution_count": 27,
   "id": "bb529233-7b34-4006-97d3-502749a53fd1",
   "metadata": {},
   "outputs": [
    {
     "data": {
      "application/vnd.jupyter.widget-view+json": {
       "model_id": "ee5840f4dc9942db8fb6d32903ca82d5",
       "version_major": 2,
       "version_minor": 0
      },
      "text/plain": [
       "  0%|          | 0/8 [00:00<?, ?it/s]"
      ]
     },
     "metadata": {},
     "output_type": "display_data"
    },
    {
     "name": "stdout",
     "output_type": "stream",
     "text": [
      "CPU times: total: 6.03 s\n",
      "Wall time: 5.99 s\n"
     ]
    }
   ],
   "source": [
    "%%time\n",
    "res_1_apri = experiment_maker(dataset1, apriori, data1_params_sparse)"
   ]
  },
  {
   "cell_type": "code",
   "execution_count": null,
   "id": "39176df2-9afa-46db-ba17-c4b67cd2e673",
   "metadata": {},
   "outputs": [
    {
     "data": {
      "application/vnd.jupyter.widget-view+json": {
       "model_id": "1b57c237bcc14e02ba626f242495b212",
       "version_major": 2,
       "version_minor": 0
      },
      "text/plain": [
       "  0%|          | 0/12 [00:00<?, ?it/s]"
      ]
     },
     "metadata": {},
     "output_type": "display_data"
    }
   ],
   "source": [
    "%%time\n",
    "res_2_apri = experiment_maker(dataset2, apriori, data2_params_sparse)"
   ]
  },
  {
   "cell_type": "markdown",
   "id": "b55da124-6f17-424d-8ac4-41c47fc72310",
   "metadata": {},
   "source": [
    "After performing both experiments, the results are saved. This allows skipping the four hour long step once it has been run, because the data can just be loaded."
   ]
  },
  {
   "cell_type": "code",
   "execution_count": 33,
   "id": "40ea8400-e97f-4ed3-82e0-da894a69bc70",
   "metadata": {},
   "outputs": [],
   "source": [
    "res_1_apri.to_parquet(os.path.join(path_to_data, \"res_1.parquet\"), engine=\"pyarrow\")\n",
    "res_2_apri.to_parquet(os.path.join(path_to_data, \"res_2.parquet\"), engine=\"pyarrow\")"
   ]
  },
  {
   "cell_type": "code",
   "execution_count": 28,
   "id": "77943473-4f3c-440f-af8d-5d12412bda21",
   "metadata": {},
   "outputs": [],
   "source": [
    "res_1_apri = pd.read_parquet(os.path.join(path_to_data, \"res_1.parquet\"), engine=\"pyarrow\")\n",
    "res_2_apri = pd.read_parquet(os.path.join(path_to_data, \"res_2.parquet\"), engine=\"pyarrow\")"
   ]
  },
  {
   "cell_type": "markdown",
   "id": "8aaea535-e63a-4e28-abdd-09756b3dd9bf",
   "metadata": {},
   "source": [
    "### 4.2. Display results on each dataset in a separate, suitable table (create useful columns), focussing on the comparison of runtime and memory consumption for executions on non-sparse and sparse data structures."
   ]
  },
  {
   "cell_type": "code",
   "execution_count": 29,
   "id": "76899c97-79ea-48c1-93c9-a99ecb7e4559",
   "metadata": {},
   "outputs": [],
   "source": [
    "col_filter = [\n",
    "    \"Min_supports\",\n",
    "    \"Sparse\",\n",
    "    \"Min_time [ms]\",\n",
    "    \"Memory_encoding\",\n",
    "    \"Memory_itemsets\",\n",
    "    \"Itemsets\",\n",
    "]"
   ]
  },
  {
   "cell_type": "code",
   "execution_count": 30,
   "id": "778af422-0de1-4216-82c5-72cc916bfa25",
   "metadata": {},
   "outputs": [
    {
     "data": {
      "text/html": [
       "<style type=\"text/css\">\n",
       "</style>\n",
       "<table id=\"T_5bfd7\" style='display:inline'>\n",
       "  <caption>Grocery dataset</caption>\n",
       "  <thead>\n",
       "    <tr>\n",
       "      <th class=\"blank level0\" >&nbsp;</th>\n",
       "      <th id=\"T_5bfd7_level0_col0\" class=\"col_heading level0 col0\" >Min_supports</th>\n",
       "      <th id=\"T_5bfd7_level0_col1\" class=\"col_heading level0 col1\" >Sparse</th>\n",
       "      <th id=\"T_5bfd7_level0_col2\" class=\"col_heading level0 col2\" >Min_time [ms]</th>\n",
       "      <th id=\"T_5bfd7_level0_col3\" class=\"col_heading level0 col3\" >Memory_encoding</th>\n",
       "      <th id=\"T_5bfd7_level0_col4\" class=\"col_heading level0 col4\" >Memory_itemsets</th>\n",
       "      <th id=\"T_5bfd7_level0_col5\" class=\"col_heading level0 col5\" >Itemsets</th>\n",
       "    </tr>\n",
       "  </thead>\n",
       "  <tbody>\n",
       "    <tr>\n",
       "      <th id=\"T_5bfd7_level0_row0\" class=\"row_heading level0 row0\" >0</th>\n",
       "      <td id=\"T_5bfd7_row0_col0\" class=\"data row0 col0\" >0.200000</td>\n",
       "      <td id=\"T_5bfd7_row0_col1\" class=\"data row0 col1\" >False</td>\n",
       "      <td id=\"T_5bfd7_row0_col2\" class=\"data row0 col2\" >121.907900</td>\n",
       "      <td id=\"T_5bfd7_row0_col3\" class=\"data row0 col3\" >213</td>\n",
       "      <td id=\"T_5bfd7_row0_col4\" class=\"data row0 col4\" >10128</td>\n",
       "      <td id=\"T_5bfd7_row0_col5\" class=\"data row0 col5\" >625</td>\n",
       "    </tr>\n",
       "    <tr>\n",
       "      <th id=\"T_5bfd7_level0_row1\" class=\"row_heading level0 row1\" >1</th>\n",
       "      <td id=\"T_5bfd7_row1_col0\" class=\"data row1 col0\" >0.200000</td>\n",
       "      <td id=\"T_5bfd7_row1_col1\" class=\"data row1 col1\" >True</td>\n",
       "      <td id=\"T_5bfd7_row1_col2\" class=\"data row1 col2\" >176.444800</td>\n",
       "      <td id=\"T_5bfd7_row1_col3\" class=\"data row1 col3\" >293</td>\n",
       "      <td id=\"T_5bfd7_row1_col4\" class=\"data row1 col4\" >10128</td>\n",
       "      <td id=\"T_5bfd7_row1_col5\" class=\"data row1 col5\" >625</td>\n",
       "    </tr>\n",
       "    <tr>\n",
       "      <th id=\"T_5bfd7_level0_row2\" class=\"row_heading level0 row2\" >2</th>\n",
       "      <td id=\"T_5bfd7_row2_col0\" class=\"data row2 col0\" >0.400000</td>\n",
       "      <td id=\"T_5bfd7_row2_col1\" class=\"data row2 col1\" >False</td>\n",
       "      <td id=\"T_5bfd7_row2_col2\" class=\"data row2 col2\" >50.732600</td>\n",
       "      <td id=\"T_5bfd7_row2_col3\" class=\"data row2 col3\" >213</td>\n",
       "      <td id=\"T_5bfd7_row2_col4\" class=\"data row2 col4\" >992</td>\n",
       "      <td id=\"T_5bfd7_row2_col5\" class=\"data row2 col5\" >54</td>\n",
       "    </tr>\n",
       "    <tr>\n",
       "      <th id=\"T_5bfd7_level0_row3\" class=\"row_heading level0 row3\" >3</th>\n",
       "      <td id=\"T_5bfd7_row3_col0\" class=\"data row3 col0\" >0.400000</td>\n",
       "      <td id=\"T_5bfd7_row3_col1\" class=\"data row3 col1\" >True</td>\n",
       "      <td id=\"T_5bfd7_row3_col2\" class=\"data row3 col2\" >86.699300</td>\n",
       "      <td id=\"T_5bfd7_row3_col3\" class=\"data row3 col3\" >293</td>\n",
       "      <td id=\"T_5bfd7_row3_col4\" class=\"data row3 col4\" >992</td>\n",
       "      <td id=\"T_5bfd7_row3_col5\" class=\"data row3 col5\" >54</td>\n",
       "    </tr>\n",
       "    <tr>\n",
       "      <th id=\"T_5bfd7_level0_row4\" class=\"row_heading level0 row4\" >4</th>\n",
       "      <td id=\"T_5bfd7_row4_col0\" class=\"data row4 col0\" >0.600000</td>\n",
       "      <td id=\"T_5bfd7_row4_col1\" class=\"data row4 col1\" >False</td>\n",
       "      <td id=\"T_5bfd7_row4_col2\" class=\"data row4 col2\" >40.083300</td>\n",
       "      <td id=\"T_5bfd7_row4_col3\" class=\"data row4 col3\" >213</td>\n",
       "      <td id=\"T_5bfd7_row4_col4\" class=\"data row4 col4\" >416</td>\n",
       "      <td id=\"T_5bfd7_row4_col5\" class=\"data row4 col5\" >18</td>\n",
       "    </tr>\n",
       "    <tr>\n",
       "      <th id=\"T_5bfd7_level0_row5\" class=\"row_heading level0 row5\" >5</th>\n",
       "      <td id=\"T_5bfd7_row5_col0\" class=\"data row5 col0\" >0.600000</td>\n",
       "      <td id=\"T_5bfd7_row5_col1\" class=\"data row5 col1\" >True</td>\n",
       "      <td id=\"T_5bfd7_row5_col2\" class=\"data row5 col2\" >61.096000</td>\n",
       "      <td id=\"T_5bfd7_row5_col3\" class=\"data row5 col3\" >293</td>\n",
       "      <td id=\"T_5bfd7_row5_col4\" class=\"data row5 col4\" >416</td>\n",
       "      <td id=\"T_5bfd7_row5_col5\" class=\"data row5 col5\" >18</td>\n",
       "    </tr>\n",
       "    <tr>\n",
       "      <th id=\"T_5bfd7_level0_row6\" class=\"row_heading level0 row6\" >6</th>\n",
       "      <td id=\"T_5bfd7_row6_col0\" class=\"data row6 col0\" >0.800000</td>\n",
       "      <td id=\"T_5bfd7_row6_col1\" class=\"data row6 col1\" >False</td>\n",
       "      <td id=\"T_5bfd7_row6_col2\" class=\"data row6 col2\" >17.246100</td>\n",
       "      <td id=\"T_5bfd7_row6_col3\" class=\"data row6 col3\" >213</td>\n",
       "      <td id=\"T_5bfd7_row6_col4\" class=\"data row6 col4\" >160</td>\n",
       "      <td id=\"T_5bfd7_row6_col5\" class=\"data row6 col5\" >2</td>\n",
       "    </tr>\n",
       "    <tr>\n",
       "      <th id=\"T_5bfd7_level0_row7\" class=\"row_heading level0 row7\" >7</th>\n",
       "      <td id=\"T_5bfd7_row7_col0\" class=\"data row7 col0\" >0.800000</td>\n",
       "      <td id=\"T_5bfd7_row7_col1\" class=\"data row7 col1\" >True</td>\n",
       "      <td id=\"T_5bfd7_row7_col2\" class=\"data row7 col2\" >26.462700</td>\n",
       "      <td id=\"T_5bfd7_row7_col3\" class=\"data row7 col3\" >293</td>\n",
       "      <td id=\"T_5bfd7_row7_col4\" class=\"data row7 col4\" >160</td>\n",
       "      <td id=\"T_5bfd7_row7_col5\" class=\"data row7 col5\" >2</td>\n",
       "    </tr>\n",
       "  </tbody>\n",
       "</table>\n",
       "   <style type=\"text/css\">\n",
       "</style>\n",
       "<table id=\"T_e9a1b\" style='display:inline'>\n",
       "  <caption>T10I4D100K</caption>\n",
       "  <thead>\n",
       "    <tr>\n",
       "      <th class=\"blank level0\" >&nbsp;</th>\n",
       "      <th id=\"T_e9a1b_level0_col0\" class=\"col_heading level0 col0\" >Min_supports</th>\n",
       "      <th id=\"T_e9a1b_level0_col1\" class=\"col_heading level0 col1\" >Sparse</th>\n",
       "      <th id=\"T_e9a1b_level0_col2\" class=\"col_heading level0 col2\" >Min_time [ms]</th>\n",
       "      <th id=\"T_e9a1b_level0_col3\" class=\"col_heading level0 col3\" >Memory_encoding</th>\n",
       "      <th id=\"T_e9a1b_level0_col4\" class=\"col_heading level0 col4\" >Memory_itemsets</th>\n",
       "      <th id=\"T_e9a1b_level0_col5\" class=\"col_heading level0 col5\" >Itemsets</th>\n",
       "    </tr>\n",
       "  </thead>\n",
       "  <tbody>\n",
       "    <tr>\n",
       "      <th id=\"T_e9a1b_level0_row0\" class=\"row_heading level0 row0\" >0</th>\n",
       "      <td id=\"T_e9a1b_row0_col0\" class=\"data row0 col0\" >0.002000</td>\n",
       "      <td id=\"T_e9a1b_row0_col1\" class=\"data row0 col1\" >False</td>\n",
       "      <td id=\"T_e9a1b_row0_col2\" class=\"data row0 col2\" >655947.090000</td>\n",
       "      <td id=\"T_e9a1b_row0_col3\" class=\"data row0 col3\" >8660128</td>\n",
       "      <td id=\"T_e9a1b_row0_col4\" class=\"data row0 col4\" >212224</td>\n",
       "      <td id=\"T_e9a1b_row0_col5\" class=\"data row0 col5\" >13256</td>\n",
       "    </tr>\n",
       "    <tr>\n",
       "      <th id=\"T_e9a1b_level0_row1\" class=\"row_heading level0 row1\" >1</th>\n",
       "      <td id=\"T_e9a1b_row1_col0\" class=\"data row1 col0\" >0.002000</td>\n",
       "      <td id=\"T_e9a1b_row1_col1\" class=\"data row1 col1\" >True</td>\n",
       "      <td id=\"T_e9a1b_row1_col2\" class=\"data row1 col2\" >532146.007700</td>\n",
       "      <td id=\"T_e9a1b_row1_col3\" class=\"data row1 col3\" >502878</td>\n",
       "      <td id=\"T_e9a1b_row1_col4\" class=\"data row1 col4\" >212224</td>\n",
       "      <td id=\"T_e9a1b_row1_col5\" class=\"data row1 col5\" >13256</td>\n",
       "    </tr>\n",
       "    <tr>\n",
       "      <th id=\"T_e9a1b_level0_row2\" class=\"row_heading level0 row2\" >2</th>\n",
       "      <td id=\"T_e9a1b_row2_col0\" class=\"data row2 col0\" >0.004000</td>\n",
       "      <td id=\"T_e9a1b_row2_col1\" class=\"data row2 col1\" >False</td>\n",
       "      <td id=\"T_e9a1b_row2_col2\" class=\"data row2 col2\" >31375.928700</td>\n",
       "      <td id=\"T_e9a1b_row2_col3\" class=\"data row2 col3\" >8660128</td>\n",
       "      <td id=\"T_e9a1b_row2_col4\" class=\"data row2 col4\" >35088</td>\n",
       "      <td id=\"T_e9a1b_row2_col5\" class=\"data row2 col5\" >2185</td>\n",
       "    </tr>\n",
       "    <tr>\n",
       "      <th id=\"T_e9a1b_level0_row3\" class=\"row_heading level0 row3\" >3</th>\n",
       "      <td id=\"T_e9a1b_row3_col0\" class=\"data row3 col0\" >0.004000</td>\n",
       "      <td id=\"T_e9a1b_row3_col1\" class=\"data row3 col1\" >True</td>\n",
       "      <td id=\"T_e9a1b_row3_col2\" class=\"data row3 col2\" >25706.786300</td>\n",
       "      <td id=\"T_e9a1b_row3_col3\" class=\"data row3 col3\" >502878</td>\n",
       "      <td id=\"T_e9a1b_row3_col4\" class=\"data row3 col4\" >35088</td>\n",
       "      <td id=\"T_e9a1b_row3_col5\" class=\"data row3 col5\" >2185</td>\n",
       "    </tr>\n",
       "    <tr>\n",
       "      <th id=\"T_e9a1b_level0_row4\" class=\"row_heading level0 row4\" >4</th>\n",
       "      <td id=\"T_e9a1b_row4_col0\" class=\"data row4 col0\" >0.008000</td>\n",
       "      <td id=\"T_e9a1b_row4_col1\" class=\"data row4 col1\" >False</td>\n",
       "      <td id=\"T_e9a1b_row4_col2\" class=\"data row4 col2\" >7185.832500</td>\n",
       "      <td id=\"T_e9a1b_row4_col3\" class=\"data row4 col3\" >8660128</td>\n",
       "      <td id=\"T_e9a1b_row4_col4\" class=\"data row4 col4\" >8144</td>\n",
       "      <td id=\"T_e9a1b_row4_col5\" class=\"data row4 col5\" >501</td>\n",
       "    </tr>\n",
       "    <tr>\n",
       "      <th id=\"T_e9a1b_level0_row5\" class=\"row_heading level0 row5\" >5</th>\n",
       "      <td id=\"T_e9a1b_row5_col0\" class=\"data row5 col0\" >0.008000</td>\n",
       "      <td id=\"T_e9a1b_row5_col1\" class=\"data row5 col1\" >True</td>\n",
       "      <td id=\"T_e9a1b_row5_col2\" class=\"data row5 col2\" >5971.392000</td>\n",
       "      <td id=\"T_e9a1b_row5_col3\" class=\"data row5 col3\" >502878</td>\n",
       "      <td id=\"T_e9a1b_row5_col4\" class=\"data row5 col4\" >8144</td>\n",
       "      <td id=\"T_e9a1b_row5_col5\" class=\"data row5 col5\" >501</td>\n",
       "    </tr>\n",
       "    <tr>\n",
       "      <th id=\"T_e9a1b_level0_row6\" class=\"row_heading level0 row6\" >6</th>\n",
       "      <td id=\"T_e9a1b_row6_col0\" class=\"data row6 col0\" >0.016000</td>\n",
       "      <td id=\"T_e9a1b_row6_col1\" class=\"data row6 col1\" >False</td>\n",
       "      <td id=\"T_e9a1b_row6_col2\" class=\"data row6 col2\" >1749.745000</td>\n",
       "      <td id=\"T_e9a1b_row6_col3\" class=\"data row6 col3\" >8660128</td>\n",
       "      <td id=\"T_e9a1b_row6_col4\" class=\"data row6 col4\" >3552</td>\n",
       "      <td id=\"T_e9a1b_row6_col5\" class=\"data row6 col5\" >214</td>\n",
       "    </tr>\n",
       "    <tr>\n",
       "      <th id=\"T_e9a1b_level0_row7\" class=\"row_heading level0 row7\" >7</th>\n",
       "      <td id=\"T_e9a1b_row7_col0\" class=\"data row7 col0\" >0.016000</td>\n",
       "      <td id=\"T_e9a1b_row7_col1\" class=\"data row7 col1\" >True</td>\n",
       "      <td id=\"T_e9a1b_row7_col2\" class=\"data row7 col2\" >1448.229100</td>\n",
       "      <td id=\"T_e9a1b_row7_col3\" class=\"data row7 col3\" >502878</td>\n",
       "      <td id=\"T_e9a1b_row7_col4\" class=\"data row7 col4\" >3552</td>\n",
       "      <td id=\"T_e9a1b_row7_col5\" class=\"data row7 col5\" >214</td>\n",
       "    </tr>\n",
       "    <tr>\n",
       "      <th id=\"T_e9a1b_level0_row8\" class=\"row_heading level0 row8\" >8</th>\n",
       "      <td id=\"T_e9a1b_row8_col0\" class=\"data row8 col0\" >0.032000</td>\n",
       "      <td id=\"T_e9a1b_row8_col1\" class=\"data row8 col1\" >False</td>\n",
       "      <td id=\"T_e9a1b_row8_col2\" class=\"data row8 col2\" >109.451800</td>\n",
       "      <td id=\"T_e9a1b_row8_col3\" class=\"data row8 col3\" >8660128</td>\n",
       "      <td id=\"T_e9a1b_row8_col4\" class=\"data row8 col4\" >912</td>\n",
       "      <td id=\"T_e9a1b_row8_col5\" class=\"data row8 col5\" >49</td>\n",
       "    </tr>\n",
       "    <tr>\n",
       "      <th id=\"T_e9a1b_level0_row9\" class=\"row_heading level0 row9\" >9</th>\n",
       "      <td id=\"T_e9a1b_row9_col0\" class=\"data row9 col0\" >0.032000</td>\n",
       "      <td id=\"T_e9a1b_row9_col1\" class=\"data row9 col1\" >True</td>\n",
       "      <td id=\"T_e9a1b_row9_col2\" class=\"data row9 col2\" >92.117100</td>\n",
       "      <td id=\"T_e9a1b_row9_col3\" class=\"data row9 col3\" >502878</td>\n",
       "      <td id=\"T_e9a1b_row9_col4\" class=\"data row9 col4\" >912</td>\n",
       "      <td id=\"T_e9a1b_row9_col5\" class=\"data row9 col5\" >49</td>\n",
       "    </tr>\n",
       "    <tr>\n",
       "      <th id=\"T_e9a1b_level0_row10\" class=\"row_heading level0 row10\" >10</th>\n",
       "      <td id=\"T_e9a1b_row10_col0\" class=\"data row10 col0\" >0.064000</td>\n",
       "      <td id=\"T_e9a1b_row10_col1\" class=\"data row10 col1\" >False</td>\n",
       "      <td id=\"T_e9a1b_row10_col2\" class=\"data row10 col2\" >16.187300</td>\n",
       "      <td id=\"T_e9a1b_row10_col3\" class=\"data row10 col3\" >8660128</td>\n",
       "      <td id=\"T_e9a1b_row10_col4\" class=\"data row10 col4\" >160</td>\n",
       "      <td id=\"T_e9a1b_row10_col5\" class=\"data row10 col5\" >2</td>\n",
       "    </tr>\n",
       "    <tr>\n",
       "      <th id=\"T_e9a1b_level0_row11\" class=\"row_heading level0 row11\" >11</th>\n",
       "      <td id=\"T_e9a1b_row11_col0\" class=\"data row11 col0\" >0.064000</td>\n",
       "      <td id=\"T_e9a1b_row11_col1\" class=\"data row11 col1\" >True</td>\n",
       "      <td id=\"T_e9a1b_row11_col2\" class=\"data row11 col2\" >16.532700</td>\n",
       "      <td id=\"T_e9a1b_row11_col3\" class=\"data row11 col3\" >502878</td>\n",
       "      <td id=\"T_e9a1b_row11_col4\" class=\"data row11 col4\" >160</td>\n",
       "      <td id=\"T_e9a1b_row11_col5\" class=\"data row11 col5\" >2</td>\n",
       "    </tr>\n",
       "  </tbody>\n",
       "</table>\n",
       "   "
      ],
      "text/plain": [
       "<IPython.core.display.HTML object>"
      ]
     },
     "metadata": {},
     "output_type": "display_data"
    }
   ],
   "source": [
    "display_side_by_side(\n",
    "    [res_1_apri[col_filter], res_2_apri[col_filter]],\n",
    "    [\"Grocery dataset\", \"T10I4D100K\"],\n",
    ")"
   ]
  },
  {
   "cell_type": "markdown",
   "id": "7792f9e7-0db4-49c1-824e-f477981994b6",
   "metadata": {},
   "source": [
    "### 4.3. Interpret the results – state observations, limitations, advice regarding the use of sparse representations!\n"
   ]
  },
  {
   "cell_type": "code",
   "execution_count": 31,
   "id": "a55e113a-ce74-4536-8d6f-64bddc32d41a",
   "metadata": {},
   "outputs": [
    {
     "name": "stdout",
     "output_type": "stream",
     "text": [
      "Grocery dataset unique items: 17\n",
      "T10I4D100K dataset unique items: 866\n"
     ]
    }
   ],
   "source": [
    "print(f\"Grocery dataset unique items: {len(set([item for trans in dataset1 for item in trans]))}\")\n",
    "print(\n",
    "    f\"T10I4D100K dataset unique items: {len(set([item for trans in dataset2 for item in trans]))}\"\n",
    ")"
   ]
  },
  {
   "cell_type": "markdown",
   "id": "64361895-4564-43fc-971d-4a2133b8e903",
   "metadata": {
    "tags": []
   },
   "source": [
    "For both datasets the runtime rises with a lower minimum support. This is because with a lower minimum support more items are included in the search, making the itemset creation more expensive. The memory requirement of the itemsets also rises with a lower minimum support. This was foreseeable, because with a lower minimum support the number of itemsets that are above the threshold rises, too.\n",
    "\n",
    "Comparing the runtime of sparse and non-sparse data, the grocery and T10I4D100K datasets have different results. While the grocery dataset's sparse data has longer runtimes, T10I4D100K dataset's sparse data is processed faster. The difference in runtime of sparse and non-sparse data between the two datasets is their size. The grocery dataset has only 5 transactions and 17 unique items, while the T10I4D100k dataset has 10.000 transactions with 866 unique items. This results in T10I4D100k not only having longer database scans. The database must also be scanned more often, because the number of potential itemsets is much larger. This difference between T10I4D100k and the grocey dataset increases exponentially. Using a sparse data representation on the much smaller dataset has therefore negative effects, because it adds an additional management layer on top which takes up more time than is saved by using the sparse representation. This can also be seen in the T10I4D100K dataset with a minimum support of 0.064. Here the non-sparse data is faster, because only two items $\\{368\\}$ and $\\{529\\}$ are considered. But with larger datasets and lower minimum supports sparse data not only decreases the runtime, it also decreases the memory consumption.<br>\n",
    "The memory usage of the encodings does not change with a different minimum support, because the encodings are done for the full dataset and are created before the itemset creation or any supports are taken into account. However, it differs between sparse and non-sparse data representation. For the T10I4D100K dataset the sparse data requires less memory. For the grocery dataset the sparse data requires slightly more memory. This is again the consequence of the added management layer, outweighing the benefits for this small dataset.\n",
    "\n",
    "Taking all this into account sparse data representation is useful when working with big datasets. Not only does it decrease the memory consumption it also speeds up the frequent itemsets generation. When using small datasets, sparse data is counterproductive and should not be used."
   ]
  },
  {
   "cell_type": "markdown",
   "id": "6895368a-b904-4369-8553-db65b77815eb",
   "metadata": {},
   "source": [
    "### 4.4. Explain, why only the minimum runtime is reported (in contrast to other options, like the average runtime).\n",
    "\n"
   ]
  },
  {
   "cell_type": "markdown",
   "id": "ba01e3bc-6e38-4784-af87-0e6461b6f3c1",
   "metadata": {},
   "source": [
    "Background processes. Comparing the minimum runtime is the closest to actually comparing the runtime of the algorithms without external influences. A random background process could increase the time for a single run and therefore increase the average runtime. Only comparing the fastest runtime minimizes this risk, because the probability that all runs were affected by some process is rather small."
   ]
  },
  {
   "cell_type": "markdown",
   "id": "3dbc978b-f510-4c9b-b11a-075baa281a18",
   "metadata": {},
   "source": [
    "---\n",
    "<a id='ex5'></a>"
   ]
  },
  {
   "cell_type": "markdown",
   "id": "2739560c-68d9-4117-bfc4-d3bf2d7cd4ca",
   "metadata": {},
   "source": [
    "## 5. Exercise\n",
    "\n",
    "### 5.1. Time and run APRIORI and FP-Growth on both datasets.\n",
    " - For the grocery dataset use 0.2, 0.4, 0.6, 0.8 as the support thresholds, run 10 measurements for each setting and use 10 executions for each repetition, and\n",
    " - for the T10I4D100K dataset use 0.002, 0.004, 0.008, 0.016, 0.032, 0.064 as the support thresholds, run 10 measurements for each setting and use 1 execution for each repetition.\n",
    "\n",
    "Out of the 10 measurements, report only the minimum for each setting (column parameter and\n",
    "support threshold)."
   ]
  },
  {
   "cell_type": "markdown",
   "id": "5d3c4b0e-7ec4-48df-a275-80ed94fad0b2",
   "metadata": {},
   "source": [
    "Similar parameter setup from before, but now without sparse data representations."
   ]
  },
  {
   "cell_type": "code",
   "execution_count": 32,
   "id": "572f7197-b27a-478e-8c45-5ea8396abe32",
   "metadata": {},
   "outputs": [],
   "source": [
    "# Setup parameters\n",
    "data1_params = {\n",
    "    \"min_supports\": [0.2, 0.4, 0.6, 0.8],\n",
    "    \"measurements\": [10],\n",
    "    \"executions\": [10],\n",
    "    \"sparse\": [False],\n",
    "    \"colnames\": [False],\n",
    "}\n",
    "data2_params = {\n",
    "    \"min_supports\": [0.002, 0.004, 0.008, 0.016, 0.032, 0.064],\n",
    "    \"measurements\": [10],\n",
    "    \"executions\": [1],\n",
    "    \"sparse\": [False],\n",
    "    \"colnames\": [False],\n",
    "}"
   ]
  },
  {
   "cell_type": "markdown",
   "id": "1803c3b6-3010-4e03-8042-25affb3f68ca",
   "metadata": {},
   "source": [
    "Because the parameters have not changed, instead of running the apriori algorithm again, the results of the non-sparse data from exercise 4 are reused and combined with the results for fpgrowth. This reduces the notebooks runtime by ~2 hours.<br>\n",
    "DISCLAIMER: Should You require that the apriori is run again, You can set the run_again_apriori variable to True. Reusing the results from before could have the risk that during those measurements some background process was running, which could be now finished. But I would argue that this can be neglected for the following reasons:\n",
    " - The background processes should be reduced to a minimum before the notebook is started anyway.\n",
    " - Because the algorithms take so long, the chance that one run is uninterrupted is very low.\n",
    " - We are not comparing the exact measurements, but rather the scale of the measurements between apriori and fpgrowth.\n",
    " - If we wanted to compare exact measurements we must run more repeats."
   ]
  },
  {
   "cell_type": "code",
   "execution_count": 33,
   "id": "763cbea5-3e02-437c-9725-718545a07612",
   "metadata": {},
   "outputs": [],
   "source": [
    "run_again_apriori = False"
   ]
  },
  {
   "cell_type": "code",
   "execution_count": 34,
   "id": "3eed6632-c528-4f43-927a-8874af7d5c6c",
   "metadata": {
    "tags": []
   },
   "outputs": [
    {
     "data": {
      "application/vnd.jupyter.widget-view+json": {
       "model_id": "5ac6ab3bc575464b898cd9213869e03b",
       "version_major": 2,
       "version_minor": 0
      },
      "text/plain": [
       "  0%|          | 0/4 [00:00<?, ?it/s]"
      ]
     },
     "metadata": {},
     "output_type": "display_data"
    },
    {
     "name": "stdout",
     "output_type": "stream",
     "text": [
      "CPU times: total: 734 ms\n",
      "Wall time: 720 ms\n"
     ]
    }
   ],
   "source": [
    "%%time\n",
    "res_1_fpg = experiment_maker(dataset1, fpgrowth, data1_params)\n",
    "res_1_fpg[\"Algorithm\"] = \"fpgrowth\"\n",
    "if run_again_apriori:\n",
    "    res_1_apri = experiment_maker(dataset1, apriori, data1_params)"
   ]
  },
  {
   "cell_type": "code",
   "execution_count": 35,
   "id": "1f8146ed-8f84-4b28-ad56-53cbf75a4eb3",
   "metadata": {},
   "outputs": [
    {
     "data": {
      "application/vnd.jupyter.widget-view+json": {
       "model_id": "8f47fe2add9f4dd88a52604c4e688473",
       "version_major": 2,
       "version_minor": 0
      },
      "text/plain": [
       "  0%|          | 0/6 [00:00<?, ?it/s]"
      ]
     },
     "metadata": {},
     "output_type": "display_data"
    },
    {
     "name": "stdout",
     "output_type": "stream",
     "text": [
      "CPU times: total: 30.1 s\n",
      "Wall time: 30.2 s\n"
     ]
    }
   ],
   "source": [
    "%%time\n",
    "res_2_fpg = experiment_maker(dataset2, fpgrowth, data2_params)\n",
    "res_2_fpg[\"Algorithm\"] = \"fpgrowth\"\n",
    "if run_again_apriori:\n",
    "    res_2_apri = experiment_maker(dataset2, apriori, data2_params)"
   ]
  },
  {
   "cell_type": "markdown",
   "id": "1df876ef-173f-4102-add8-b660a7ef7f7c",
   "metadata": {},
   "source": [
    "### 5.2.Display results on each dataset in a separate, suitable table (create useful columns), focussing on the comparison of runtime for executions of the two algorithms."
   ]
  },
  {
   "cell_type": "code",
   "execution_count": 36,
   "id": "5d2fedd5-db1a-4762-a12b-3e1bba62a6d1",
   "metadata": {},
   "outputs": [],
   "source": [
    "res_1_apri[\"Algorithm\"] = \"apriori\"\n",
    "res_2_apri[\"Algorithm\"] = \"apriori\"\n",
    "if not run_again_apriori:\n",
    "    res_1_apri = res_1_apri[res_1_apri[\"Sparse\"] == False]\n",
    "    res_2_apri = res_2_apri[res_2_apri[\"Sparse\"] == False]"
   ]
  },
  {
   "cell_type": "code",
   "execution_count": 37,
   "id": "a69809a4-4324-4e07-82cb-14666bb5ab68",
   "metadata": {},
   "outputs": [],
   "source": [
    "table_1 = pd.concat([res_1_apri, res_1_fpg]).sort_values([\"Min_supports\", \"Algorithm\"])\n",
    "table_2 = pd.concat([res_2_apri, res_2_fpg]).sort_values([\"Min_supports\", \"Algorithm\"])"
   ]
  },
  {
   "cell_type": "code",
   "execution_count": 38,
   "id": "37b18803-cdd9-4cc9-80a7-c8cf802db8d9",
   "metadata": {},
   "outputs": [],
   "source": [
    "col_filter2 = [\n",
    "    \"Algorithm\",\n",
    "    \"Min_supports\",\n",
    "    \"Min_time [ms]\",\n",
    "    \"Memory_encoding\",\n",
    "    \"Memory_itemsets\",\n",
    "    \"Itemsets\",\n",
    "]"
   ]
  },
  {
   "cell_type": "code",
   "execution_count": 39,
   "id": "3a5541ad-631b-4a4b-a1f4-8608157973bd",
   "metadata": {},
   "outputs": [
    {
     "data": {
      "text/html": [
       "<style type=\"text/css\">\n",
       "</style>\n",
       "<table id=\"T_da578\" style='display:inline'>\n",
       "  <caption>Grocery dataset</caption>\n",
       "  <thead>\n",
       "    <tr>\n",
       "      <th class=\"blank level0\" >&nbsp;</th>\n",
       "      <th id=\"T_da578_level0_col0\" class=\"col_heading level0 col0\" >Algorithm</th>\n",
       "      <th id=\"T_da578_level0_col1\" class=\"col_heading level0 col1\" >Min_supports</th>\n",
       "      <th id=\"T_da578_level0_col2\" class=\"col_heading level0 col2\" >Min_time [ms]</th>\n",
       "      <th id=\"T_da578_level0_col3\" class=\"col_heading level0 col3\" >Memory_encoding</th>\n",
       "      <th id=\"T_da578_level0_col4\" class=\"col_heading level0 col4\" >Memory_itemsets</th>\n",
       "      <th id=\"T_da578_level0_col5\" class=\"col_heading level0 col5\" >Itemsets</th>\n",
       "    </tr>\n",
       "  </thead>\n",
       "  <tbody>\n",
       "    <tr>\n",
       "      <th id=\"T_da578_level0_row0\" class=\"row_heading level0 row0\" >0</th>\n",
       "      <td id=\"T_da578_row0_col0\" class=\"data row0 col0\" >apriori</td>\n",
       "      <td id=\"T_da578_row0_col1\" class=\"data row0 col1\" >0.200000</td>\n",
       "      <td id=\"T_da578_row0_col2\" class=\"data row0 col2\" >121.907900</td>\n",
       "      <td id=\"T_da578_row0_col3\" class=\"data row0 col3\" >213</td>\n",
       "      <td id=\"T_da578_row0_col4\" class=\"data row0 col4\" >10128</td>\n",
       "      <td id=\"T_da578_row0_col5\" class=\"data row0 col5\" >625</td>\n",
       "    </tr>\n",
       "    <tr>\n",
       "      <th id=\"T_da578_level0_row1\" class=\"row_heading level0 row1\" >0</th>\n",
       "      <td id=\"T_da578_row1_col0\" class=\"data row1 col0\" >fpgrowth</td>\n",
       "      <td id=\"T_da578_row1_col1\" class=\"data row1 col1\" >0.200000</td>\n",
       "      <td id=\"T_da578_row1_col2\" class=\"data row1 col2\" >28.537000</td>\n",
       "      <td id=\"T_da578_row1_col3\" class=\"data row1 col3\" >213</td>\n",
       "      <td id=\"T_da578_row1_col4\" class=\"data row1 col4\" >10128</td>\n",
       "      <td id=\"T_da578_row1_col5\" class=\"data row1 col5\" >625</td>\n",
       "    </tr>\n",
       "    <tr>\n",
       "      <th id=\"T_da578_level0_row2\" class=\"row_heading level0 row2\" >2</th>\n",
       "      <td id=\"T_da578_row2_col0\" class=\"data row2 col0\" >apriori</td>\n",
       "      <td id=\"T_da578_row2_col1\" class=\"data row2 col1\" >0.400000</td>\n",
       "      <td id=\"T_da578_row2_col2\" class=\"data row2 col2\" >50.732600</td>\n",
       "      <td id=\"T_da578_row2_col3\" class=\"data row2 col3\" >213</td>\n",
       "      <td id=\"T_da578_row2_col4\" class=\"data row2 col4\" >992</td>\n",
       "      <td id=\"T_da578_row2_col5\" class=\"data row2 col5\" >54</td>\n",
       "    </tr>\n",
       "    <tr>\n",
       "      <th id=\"T_da578_level0_row3\" class=\"row_heading level0 row3\" >1</th>\n",
       "      <td id=\"T_da578_row3_col0\" class=\"data row3 col0\" >fpgrowth</td>\n",
       "      <td id=\"T_da578_row3_col1\" class=\"data row3 col1\" >0.400000</td>\n",
       "      <td id=\"T_da578_row3_col2\" class=\"data row3 col2\" >12.850400</td>\n",
       "      <td id=\"T_da578_row3_col3\" class=\"data row3 col3\" >213</td>\n",
       "      <td id=\"T_da578_row3_col4\" class=\"data row3 col4\" >992</td>\n",
       "      <td id=\"T_da578_row3_col5\" class=\"data row3 col5\" >54</td>\n",
       "    </tr>\n",
       "    <tr>\n",
       "      <th id=\"T_da578_level0_row4\" class=\"row_heading level0 row4\" >4</th>\n",
       "      <td id=\"T_da578_row4_col0\" class=\"data row4 col0\" >apriori</td>\n",
       "      <td id=\"T_da578_row4_col1\" class=\"data row4 col1\" >0.600000</td>\n",
       "      <td id=\"T_da578_row4_col2\" class=\"data row4 col2\" >40.083300</td>\n",
       "      <td id=\"T_da578_row4_col3\" class=\"data row4 col3\" >213</td>\n",
       "      <td id=\"T_da578_row4_col4\" class=\"data row4 col4\" >416</td>\n",
       "      <td id=\"T_da578_row4_col5\" class=\"data row4 col5\" >18</td>\n",
       "    </tr>\n",
       "    <tr>\n",
       "      <th id=\"T_da578_level0_row5\" class=\"row_heading level0 row5\" >2</th>\n",
       "      <td id=\"T_da578_row5_col0\" class=\"data row5 col0\" >fpgrowth</td>\n",
       "      <td id=\"T_da578_row5_col1\" class=\"data row5 col1\" >0.600000</td>\n",
       "      <td id=\"T_da578_row5_col2\" class=\"data row5 col2\" >11.265800</td>\n",
       "      <td id=\"T_da578_row5_col3\" class=\"data row5 col3\" >213</td>\n",
       "      <td id=\"T_da578_row5_col4\" class=\"data row5 col4\" >416</td>\n",
       "      <td id=\"T_da578_row5_col5\" class=\"data row5 col5\" >18</td>\n",
       "    </tr>\n",
       "    <tr>\n",
       "      <th id=\"T_da578_level0_row6\" class=\"row_heading level0 row6\" >6</th>\n",
       "      <td id=\"T_da578_row6_col0\" class=\"data row6 col0\" >apriori</td>\n",
       "      <td id=\"T_da578_row6_col1\" class=\"data row6 col1\" >0.800000</td>\n",
       "      <td id=\"T_da578_row6_col2\" class=\"data row6 col2\" >17.246100</td>\n",
       "      <td id=\"T_da578_row6_col3\" class=\"data row6 col3\" >213</td>\n",
       "      <td id=\"T_da578_row6_col4\" class=\"data row6 col4\" >160</td>\n",
       "      <td id=\"T_da578_row6_col5\" class=\"data row6 col5\" >2</td>\n",
       "    </tr>\n",
       "    <tr>\n",
       "      <th id=\"T_da578_level0_row7\" class=\"row_heading level0 row7\" >3</th>\n",
       "      <td id=\"T_da578_row7_col0\" class=\"data row7 col0\" >fpgrowth</td>\n",
       "      <td id=\"T_da578_row7_col1\" class=\"data row7 col1\" >0.800000</td>\n",
       "      <td id=\"T_da578_row7_col2\" class=\"data row7 col2\" >9.764100</td>\n",
       "      <td id=\"T_da578_row7_col3\" class=\"data row7 col3\" >213</td>\n",
       "      <td id=\"T_da578_row7_col4\" class=\"data row7 col4\" >160</td>\n",
       "      <td id=\"T_da578_row7_col5\" class=\"data row7 col5\" >2</td>\n",
       "    </tr>\n",
       "  </tbody>\n",
       "</table>\n",
       "   <style type=\"text/css\">\n",
       "</style>\n",
       "<table id=\"T_58272\" style='display:inline'>\n",
       "  <caption>T10I4D100K</caption>\n",
       "  <thead>\n",
       "    <tr>\n",
       "      <th class=\"blank level0\" >&nbsp;</th>\n",
       "      <th id=\"T_58272_level0_col0\" class=\"col_heading level0 col0\" >Algorithm</th>\n",
       "      <th id=\"T_58272_level0_col1\" class=\"col_heading level0 col1\" >Min_supports</th>\n",
       "      <th id=\"T_58272_level0_col2\" class=\"col_heading level0 col2\" >Min_time [ms]</th>\n",
       "      <th id=\"T_58272_level0_col3\" class=\"col_heading level0 col3\" >Memory_encoding</th>\n",
       "      <th id=\"T_58272_level0_col4\" class=\"col_heading level0 col4\" >Memory_itemsets</th>\n",
       "      <th id=\"T_58272_level0_col5\" class=\"col_heading level0 col5\" >Itemsets</th>\n",
       "    </tr>\n",
       "  </thead>\n",
       "  <tbody>\n",
       "    <tr>\n",
       "      <th id=\"T_58272_level0_row0\" class=\"row_heading level0 row0\" >0</th>\n",
       "      <td id=\"T_58272_row0_col0\" class=\"data row0 col0\" >apriori</td>\n",
       "      <td id=\"T_58272_row0_col1\" class=\"data row0 col1\" >0.002000</td>\n",
       "      <td id=\"T_58272_row0_col2\" class=\"data row0 col2\" >655947.090000</td>\n",
       "      <td id=\"T_58272_row0_col3\" class=\"data row0 col3\" >8660128</td>\n",
       "      <td id=\"T_58272_row0_col4\" class=\"data row0 col4\" >212224</td>\n",
       "      <td id=\"T_58272_row0_col5\" class=\"data row0 col5\" >13256</td>\n",
       "    </tr>\n",
       "    <tr>\n",
       "      <th id=\"T_58272_level0_row1\" class=\"row_heading level0 row1\" >0</th>\n",
       "      <td id=\"T_58272_row1_col0\" class=\"data row1 col0\" >fpgrowth</td>\n",
       "      <td id=\"T_58272_row1_col1\" class=\"data row1 col1\" >0.002000</td>\n",
       "      <td id=\"T_58272_row1_col2\" class=\"data row1 col2\" >820.897700</td>\n",
       "      <td id=\"T_58272_row1_col3\" class=\"data row1 col3\" >8660128</td>\n",
       "      <td id=\"T_58272_row1_col4\" class=\"data row1 col4\" >212224</td>\n",
       "      <td id=\"T_58272_row1_col5\" class=\"data row1 col5\" >13256</td>\n",
       "    </tr>\n",
       "    <tr>\n",
       "      <th id=\"T_58272_level0_row2\" class=\"row_heading level0 row2\" >2</th>\n",
       "      <td id=\"T_58272_row2_col0\" class=\"data row2 col0\" >apriori</td>\n",
       "      <td id=\"T_58272_row2_col1\" class=\"data row2 col1\" >0.004000</td>\n",
       "      <td id=\"T_58272_row2_col2\" class=\"data row2 col2\" >31375.928700</td>\n",
       "      <td id=\"T_58272_row2_col3\" class=\"data row2 col3\" >8660128</td>\n",
       "      <td id=\"T_58272_row2_col4\" class=\"data row2 col4\" >35088</td>\n",
       "      <td id=\"T_58272_row2_col5\" class=\"data row2 col5\" >2185</td>\n",
       "    </tr>\n",
       "    <tr>\n",
       "      <th id=\"T_58272_level0_row3\" class=\"row_heading level0 row3\" >1</th>\n",
       "      <td id=\"T_58272_row3_col0\" class=\"data row3 col0\" >fpgrowth</td>\n",
       "      <td id=\"T_58272_row3_col1\" class=\"data row3 col1\" >0.004000</td>\n",
       "      <td id=\"T_58272_row3_col2\" class=\"data row3 col2\" >625.987200</td>\n",
       "      <td id=\"T_58272_row3_col3\" class=\"data row3 col3\" >8660128</td>\n",
       "      <td id=\"T_58272_row3_col4\" class=\"data row3 col4\" >35088</td>\n",
       "      <td id=\"T_58272_row3_col5\" class=\"data row3 col5\" >2185</td>\n",
       "    </tr>\n",
       "    <tr>\n",
       "      <th id=\"T_58272_level0_row4\" class=\"row_heading level0 row4\" >4</th>\n",
       "      <td id=\"T_58272_row4_col0\" class=\"data row4 col0\" >apriori</td>\n",
       "      <td id=\"T_58272_row4_col1\" class=\"data row4 col1\" >0.008000</td>\n",
       "      <td id=\"T_58272_row4_col2\" class=\"data row4 col2\" >7185.832500</td>\n",
       "      <td id=\"T_58272_row4_col3\" class=\"data row4 col3\" >8660128</td>\n",
       "      <td id=\"T_58272_row4_col4\" class=\"data row4 col4\" >8144</td>\n",
       "      <td id=\"T_58272_row4_col5\" class=\"data row4 col5\" >501</td>\n",
       "    </tr>\n",
       "    <tr>\n",
       "      <th id=\"T_58272_level0_row5\" class=\"row_heading level0 row5\" >2</th>\n",
       "      <td id=\"T_58272_row5_col0\" class=\"data row5 col0\" >fpgrowth</td>\n",
       "      <td id=\"T_58272_row5_col1\" class=\"data row5 col1\" >0.008000</td>\n",
       "      <td id=\"T_58272_row5_col2\" class=\"data row5 col2\" >477.308300</td>\n",
       "      <td id=\"T_58272_row5_col3\" class=\"data row5 col3\" >8660128</td>\n",
       "      <td id=\"T_58272_row5_col4\" class=\"data row5 col4\" >8144</td>\n",
       "      <td id=\"T_58272_row5_col5\" class=\"data row5 col5\" >501</td>\n",
       "    </tr>\n",
       "    <tr>\n",
       "      <th id=\"T_58272_level0_row6\" class=\"row_heading level0 row6\" >6</th>\n",
       "      <td id=\"T_58272_row6_col0\" class=\"data row6 col0\" >apriori</td>\n",
       "      <td id=\"T_58272_row6_col1\" class=\"data row6 col1\" >0.016000</td>\n",
       "      <td id=\"T_58272_row6_col2\" class=\"data row6 col2\" >1749.745000</td>\n",
       "      <td id=\"T_58272_row6_col3\" class=\"data row6 col3\" >8660128</td>\n",
       "      <td id=\"T_58272_row6_col4\" class=\"data row6 col4\" >3552</td>\n",
       "      <td id=\"T_58272_row6_col5\" class=\"data row6 col5\" >214</td>\n",
       "    </tr>\n",
       "    <tr>\n",
       "      <th id=\"T_58272_level0_row7\" class=\"row_heading level0 row7\" >3</th>\n",
       "      <td id=\"T_58272_row7_col0\" class=\"data row7 col0\" >fpgrowth</td>\n",
       "      <td id=\"T_58272_row7_col1\" class=\"data row7 col1\" >0.016000</td>\n",
       "      <td id=\"T_58272_row7_col2\" class=\"data row7 col2\" >282.022000</td>\n",
       "      <td id=\"T_58272_row7_col3\" class=\"data row7 col3\" >8660128</td>\n",
       "      <td id=\"T_58272_row7_col4\" class=\"data row7 col4\" >3552</td>\n",
       "      <td id=\"T_58272_row7_col5\" class=\"data row7 col5\" >214</td>\n",
       "    </tr>\n",
       "    <tr>\n",
       "      <th id=\"T_58272_level0_row8\" class=\"row_heading level0 row8\" >8</th>\n",
       "      <td id=\"T_58272_row8_col0\" class=\"data row8 col0\" >apriori</td>\n",
       "      <td id=\"T_58272_row8_col1\" class=\"data row8 col1\" >0.032000</td>\n",
       "      <td id=\"T_58272_row8_col2\" class=\"data row8 col2\" >109.451800</td>\n",
       "      <td id=\"T_58272_row8_col3\" class=\"data row8 col3\" >8660128</td>\n",
       "      <td id=\"T_58272_row8_col4\" class=\"data row8 col4\" >912</td>\n",
       "      <td id=\"T_58272_row8_col5\" class=\"data row8 col5\" >49</td>\n",
       "    </tr>\n",
       "    <tr>\n",
       "      <th id=\"T_58272_level0_row9\" class=\"row_heading level0 row9\" >4</th>\n",
       "      <td id=\"T_58272_row9_col0\" class=\"data row9 col0\" >fpgrowth</td>\n",
       "      <td id=\"T_58272_row9_col1\" class=\"data row9 col1\" >0.032000</td>\n",
       "      <td id=\"T_58272_row9_col2\" class=\"data row9 col2\" >106.590300</td>\n",
       "      <td id=\"T_58272_row9_col3\" class=\"data row9 col3\" >8660128</td>\n",
       "      <td id=\"T_58272_row9_col4\" class=\"data row9 col4\" >912</td>\n",
       "      <td id=\"T_58272_row9_col5\" class=\"data row9 col5\" >49</td>\n",
       "    </tr>\n",
       "    <tr>\n",
       "      <th id=\"T_58272_level0_row10\" class=\"row_heading level0 row10\" >10</th>\n",
       "      <td id=\"T_58272_row10_col0\" class=\"data row10 col0\" >apriori</td>\n",
       "      <td id=\"T_58272_row10_col1\" class=\"data row10 col1\" >0.064000</td>\n",
       "      <td id=\"T_58272_row10_col2\" class=\"data row10 col2\" >16.187300</td>\n",
       "      <td id=\"T_58272_row10_col3\" class=\"data row10 col3\" >8660128</td>\n",
       "      <td id=\"T_58272_row10_col4\" class=\"data row10 col4\" >160</td>\n",
       "      <td id=\"T_58272_row10_col5\" class=\"data row10 col5\" >2</td>\n",
       "    </tr>\n",
       "    <tr>\n",
       "      <th id=\"T_58272_level0_row11\" class=\"row_heading level0 row11\" >5</th>\n",
       "      <td id=\"T_58272_row11_col0\" class=\"data row11 col0\" >fpgrowth</td>\n",
       "      <td id=\"T_58272_row11_col1\" class=\"data row11 col1\" >0.064000</td>\n",
       "      <td id=\"T_58272_row11_col2\" class=\"data row11 col2\" >68.227200</td>\n",
       "      <td id=\"T_58272_row11_col3\" class=\"data row11 col3\" >8660128</td>\n",
       "      <td id=\"T_58272_row11_col4\" class=\"data row11 col4\" >160</td>\n",
       "      <td id=\"T_58272_row11_col5\" class=\"data row11 col5\" >2</td>\n",
       "    </tr>\n",
       "  </tbody>\n",
       "</table>\n",
       "   "
      ],
      "text/plain": [
       "<IPython.core.display.HTML object>"
      ]
     },
     "metadata": {},
     "output_type": "display_data"
    }
   ],
   "source": [
    "display_side_by_side(\n",
    "    [table_1[col_filter2], table_2[col_filter2]],\n",
    "    [\"Grocery dataset\", \"T10I4D100K\"],\n",
    ")"
   ]
  },
  {
   "cell_type": "markdown",
   "id": "7ad40be4-5c67-4d52-baf1-9b6fbf9355cf",
   "metadata": {},
   "source": [
    "### 5.3. Add a visual comparison by plotting the runtimes of both algorithms against the support thresholds into the same diagram (thus, one diagram per dataset). Use scaled axes where useful."
   ]
  },
  {
   "cell_type": "code",
   "execution_count": 41,
   "id": "d3e6cb3b-a21e-4749-b69d-bec3db5947fb",
   "metadata": {},
   "outputs": [
    {
     "data": {
      "image/png": "[encoded data removed]",
      "text/plain": [
       "<Figure size 800x600 with 2 Axes>"
      ]
     },
     "metadata": {},
     "output_type": "display_data"
    }
   ],
   "source": [
    "final_results = {\"Grocery\": table_1, \"T10I4D100K\": table_2}\n",
    "fig, axes = plt.subplots(2, 1, figsize=(8, 6), dpi=100)\n",
    "for idx, (key, _data) in enumerate(final_results.items()):\n",
    "    sns.lineplot(data=_data, x=\"Min_supports\", y=\"Min_time [ms]\", hue=\"Algorithm\", ax=axes[idx])\n",
    "    axes[idx].set_xlabel(\"Support Thresholds\")\n",
    "    axes[idx].set_ylabel(\"Minimum runtime [ms]\")\n",
    "    axes[idx].set_title(\n",
    "        f\"{key} runtime comparison of 'Apriori' and 'fpgrowth' algorithm for different supports.\",\n",
    "    )\n",
    "    axes[idx].set_xticks(_data[\"Min_supports\"])\n",
    "    if idx:\n",
    "        for label in axes[idx].get_xticklabels():\n",
    "            label.set_rotation(45)\n",
    "        axes[idx].set_yscale(\"log\")\n",
    "plt.tight_layout()\n",
    "plt.show()"
   ]
  },
  {
   "cell_type": "markdown",
   "id": "1a67e98e-934d-4bc6-ad54-67c07f553fc3",
   "metadata": {},
   "source": [
    "### 5.4.  Interpret the results – state observations, limitations, advice regarding the use of the two algorithms!"
   ]
  },
  {
   "cell_type": "markdown",
   "id": "85e5c98e-3b23-4aae-af62-bb354d07e162",
   "metadata": {},
   "source": [
    "As already observed in exercise 4, the runtime increases with a lower minimum support. The memory usage for each encoding/itemset per dataset stays the same for apriori and fpgrowth, because apriori and fpgrowth produce the same results.\n",
    "\n",
    "Using the grocery dataset fpgrowth is always faster.\n",
    "The time increase using apriori is almost parallel to the number of items exceeding a threshold. Going from a minimum support of 0.8 to 0.6, not only increases the number of items by 2x the runtime also increases by ~2x, Going from 0.6 to 0.4, the number of items increases by 0.5x and the runtime also increases by ~0.5x."
   ]
  },
  {
   "cell_type": "code",
   "execution_count": 49,
   "id": "e8b86cbb-9521-49a0-b0ae-5575972a05e1",
   "metadata": {},
   "outputs": [
    {
     "data": {
      "text/html": [
       "<div>\n",
       "<style scoped>\n",
       "    .dataframe tbody tr th:only-of-type {\n",
       "        vertical-align: middle;\n",
       "    }\n",
       "\n",
       "    .dataframe tbody tr th {\n",
       "        vertical-align: top;\n",
       "    }\n",
       "\n",
       "    .dataframe thead th {\n",
       "        text-align: right;\n",
       "    }\n",
       "</style>\n",
       "<table border=\"1\" class=\"dataframe\">\n",
       "  <thead>\n",
       "    <tr style=\"text-align: right;\">\n",
       "      <th></th>\n",
       "      <th>relativ_support</th>\n",
       "    </tr>\n",
       "  </thead>\n",
       "  <tbody>\n",
       "    <tr>\n",
       "      <th>cider</th>\n",
       "      <td>0.8</td>\n",
       "    </tr>\n",
       "    <tr>\n",
       "      <th>fish</th>\n",
       "      <td>0.8</td>\n",
       "    </tr>\n",
       "    <tr>\n",
       "      <th>apples</th>\n",
       "      <td>0.6</td>\n",
       "    </tr>\n",
       "    <tr>\n",
       "      <th>bacon</th>\n",
       "      <td>0.6</td>\n",
       "    </tr>\n",
       "    <tr>\n",
       "      <th>mints</th>\n",
       "      <td>0.6</td>\n",
       "    </tr>\n",
       "    <tr>\n",
       "      <th>prunes</th>\n",
       "      <td>0.6</td>\n",
       "    </tr>\n",
       "    <tr>\n",
       "      <th>lemons</th>\n",
       "      <td>0.4</td>\n",
       "    </tr>\n",
       "    <tr>\n",
       "      <th>oatmeal</th>\n",
       "      <td>0.4</td>\n",
       "    </tr>\n",
       "    <tr>\n",
       "      <th>dragon fruit</th>\n",
       "      <td>0.2</td>\n",
       "    </tr>\n",
       "    <tr>\n",
       "      <th>eggs</th>\n",
       "      <td>0.2</td>\n",
       "    </tr>\n",
       "  </tbody>\n",
       "</table>\n",
       "</div>"
      ],
      "text/plain": [
       "              relativ_support\n",
       "cider                     0.8\n",
       "fish                      0.8\n",
       "apples                    0.6\n",
       "bacon                     0.6\n",
       "mints                     0.6\n",
       "prunes                    0.6\n",
       "lemons                    0.4\n",
       "oatmeal                   0.4\n",
       "dragon fruit              0.2\n",
       "eggs                      0.2"
      ]
     },
     "execution_count": 49,
     "metadata": {},
     "output_type": "execute_result"
    }
   ],
   "source": [
    "show_largest(data1, relsup_str, 10)"
   ]
  },
  {
   "cell_type": "markdown",
   "id": "3cd6d5a4-f53a-401c-8d5b-5a0e867c5254",
   "metadata": {},
   "source": [
    "For T10I4D100K the results are not that distinct. When the minimum support is low, meaning a lot of items are considered, fpgrowth is vastly faster than apriori. While apriori scales almost exponentially, fpgrowth's runtime increases only linear. This stays true until the minimum support reaches 0.032. Here both algorithms have almost the same runtime. And with a minimum support of 0.064 apriori is faster than fpgrowth. The reason for this could be, that the tree- and header-table-generation of this fpgrowth implementation initially require more time. Both algorithms calculate the relative minimum support for all items. And both algorithms prune the items according to the minimum support threshold, leaving only two potential candidates. Although apriori requires more database scans than fpgrowth, those seem to be faster than the generation of the tree and header table. This benefit vanishes with more candidates.<br>\n",
    "So why is this only true for the larger dataset? Looking at the items below shows, that both datasets only have two items with a relative support above the highest threshold. Why is only T10I4D100K the one with slower runtimes for fpgrowth?"
   ]
  },
  {
   "cell_type": "code",
   "execution_count": 40,
   "id": "be895cc2-cebb-4b61-ac5a-436c93996626",
   "metadata": {},
   "outputs": [
    {
     "data": {
      "text/html": [
       "<style type=\"text/css\">\n",
       "</style>\n",
       "<table id=\"T_aceaf\" style='display:inline'>\n",
       "  <caption>Grocery dataset</caption>\n",
       "  <thead>\n",
       "    <tr>\n",
       "      <th class=\"blank level0\" >&nbsp;</th>\n",
       "      <th id=\"T_aceaf_level0_col0\" class=\"col_heading level0 col0\" >relativ_support</th>\n",
       "    </tr>\n",
       "  </thead>\n",
       "  <tbody>\n",
       "    <tr>\n",
       "      <th id=\"T_aceaf_level0_row0\" class=\"row_heading level0 row0\" >cider</th>\n",
       "      <td id=\"T_aceaf_row0_col0\" class=\"data row0 col0\" >0.800000</td>\n",
       "    </tr>\n",
       "    <tr>\n",
       "      <th id=\"T_aceaf_level0_row1\" class=\"row_heading level0 row1\" >fish</th>\n",
       "      <td id=\"T_aceaf_row1_col0\" class=\"data row1 col0\" >0.800000</td>\n",
       "    </tr>\n",
       "    <tr>\n",
       "      <th id=\"T_aceaf_level0_row2\" class=\"row_heading level0 row2\" >apples</th>\n",
       "      <td id=\"T_aceaf_row2_col0\" class=\"data row2 col0\" >0.600000</td>\n",
       "    </tr>\n",
       "    <tr>\n",
       "      <th id=\"T_aceaf_level0_row3\" class=\"row_heading level0 row3\" >bacon</th>\n",
       "      <td id=\"T_aceaf_row3_col0\" class=\"data row3 col0\" >0.600000</td>\n",
       "    </tr>\n",
       "    <tr>\n",
       "      <th id=\"T_aceaf_level0_row4\" class=\"row_heading level0 row4\" >mints</th>\n",
       "      <td id=\"T_aceaf_row4_col0\" class=\"data row4 col0\" >0.600000</td>\n",
       "    </tr>\n",
       "  </tbody>\n",
       "</table>\n",
       "   <style type=\"text/css\">\n",
       "</style>\n",
       "<table id=\"T_e31c0\" style='display:inline'>\n",
       "  <caption>T10I4D100K</caption>\n",
       "  <thead>\n",
       "    <tr>\n",
       "      <th class=\"blank level0\" >&nbsp;</th>\n",
       "      <th id=\"T_e31c0_level0_col0\" class=\"col_heading level0 col0\" >relativ_support</th>\n",
       "    </tr>\n",
       "  </thead>\n",
       "  <tbody>\n",
       "    <tr>\n",
       "      <th id=\"T_e31c0_level0_row0\" class=\"row_heading level0 row0\" >368</th>\n",
       "      <td id=\"T_e31c0_row0_col0\" class=\"data row0 col0\" >0.082300</td>\n",
       "    </tr>\n",
       "    <tr>\n",
       "      <th id=\"T_e31c0_level0_row1\" class=\"row_heading level0 row1\" >529</th>\n",
       "      <td id=\"T_e31c0_row1_col0\" class=\"data row1 col0\" >0.070300</td>\n",
       "    </tr>\n",
       "    <tr>\n",
       "      <th id=\"T_e31c0_level0_row2\" class=\"row_heading level0 row2\" >829</th>\n",
       "      <td id=\"T_e31c0_row2_col0\" class=\"data row2 col0\" >0.062900</td>\n",
       "    </tr>\n",
       "    <tr>\n",
       "      <th id=\"T_e31c0_level0_row3\" class=\"row_heading level0 row3\" >354</th>\n",
       "      <td id=\"T_e31c0_row3_col0\" class=\"data row3 col0\" >0.061300</td>\n",
       "    </tr>\n",
       "    <tr>\n",
       "      <th id=\"T_e31c0_level0_row4\" class=\"row_heading level0 row4\" >766</th>\n",
       "      <td id=\"T_e31c0_row4_col0\" class=\"data row4 col0\" >0.057400</td>\n",
       "    </tr>\n",
       "  </tbody>\n",
       "</table>\n",
       "   "
      ],
      "text/plain": [
       "<IPython.core.display.HTML object>"
      ]
     },
     "metadata": {},
     "output_type": "display_data"
    }
   ],
   "source": [
    "display_side_by_side(\n",
    "    [show_largest(data1, relsup_str, 5), show_largest(data2, relsup_str, 5)],\n",
    "    [\"Grocery dataset\", \"T10I4D100K\"],\n",
    ")"
   ]
  },
  {
   "cell_type": "markdown",
   "id": "e9bb046a-c552-4f75-8a0f-5349a9a70e92",
   "metadata": {},
   "source": [
    "The difference comes from the header table. The grocery dataset, with its few entries, only has a header table consisting of 5 transactions, while T10I4D100K's header table has 1.458 transactions. The header table is a result of Fpgrowth first dropping all items that are below the threshold from the transactions. It then loops through all remaining entries in the header table to create the tree. This takes longer for larger datasets. "
   ]
  },
  {
   "cell_type": "code",
   "execution_count": 48,
   "id": "4283679a-d57e-49db-8d80-fbb3867d589e",
   "metadata": {},
   "outputs": [
    {
     "data": {
      "text/plain": [
       "1458"
      ]
     },
     "execution_count": 48,
     "metadata": {},
     "output_type": "execute_result"
    }
   ],
   "source": [
    "len([trans for trans in dataset2 if \"368\" in trans or \"529\" in trans])"
   ]
  },
  {
   "cell_type": "markdown",
   "id": "ed0d3a95-3c40-4ae2-8820-0129320b49d1",
   "metadata": {},
   "source": [
    "So, because of the initial creation of the header table and tree, fpgrowth can be slower than apriori. So when should which algorithm be used?\n",
    "Fpgrowth is the better choice most of the time. Even on the much smaller dataset fpgrowth outperforms apriori by a factor of 4x for the biggest frequent itemsets. On the larger dataset the difference between the two is seconds vs multiple minutes. Its runtime does not increase exponentially. Apriori might be faster on very large datasets, if the minimum supports are chosen in a way, that yields only two or three frequent itemsets."
   ]
  },
  {
   "cell_type": "markdown",
   "id": "ffbadb09-3df0-44c0-8b05-4da97c228cb6",
   "metadata": {},
   "source": [
    "---\n",
    "<a id='ref'></a>"
   ]
  }
 ],
 "metadata": {
  "kernelspec": {
   "display_name": "EMDM",
   "language": "python",
   "name": "emdm"
  },
  "language_info": {
   "codemirror_mode": {
    "name": "ipython",
    "version": 3
   },
   "file_extension": ".py",
   "mimetype": "text/x-python",
   "name": "python",
   "nbconvert_exporter": "python",
   "pygments_lexer": "ipython3",
   "version": "3.9.7"
  }
 },
 "nbformat": 4,
 "nbformat_minor": 5
}
